{
 "cells": [
  {
   "cell_type": "markdown",
   "metadata": {},
   "source": [
    "# 1. Imports"
   ]
  },
  {
   "cell_type": "code",
   "execution_count": 1,
   "metadata": {},
   "outputs": [],
   "source": [
    "import os\n",
    "import glob\n",
    "import numpy as np\n",
    "import pandas as pd\n",
    "from datetime import timedelta, date\n",
    "import requests"
   ]
  },
  {
   "cell_type": "markdown",
   "metadata": {},
   "source": [
    "# 2. Load data"
   ]
  },
  {
   "cell_type": "markdown",
   "metadata": {},
   "source": [
    "## 2.1 Load LACNIC delegation files"
   ]
  },
  {
   "cell_type": "code",
   "execution_count": 2,
   "metadata": {},
   "outputs": [
    {
     "data": {
      "text/plain": [
       "'../../data/processed/delegation_files/lacnic/asns/2019_07_01'"
      ]
     },
     "execution_count": 2,
     "metadata": {},
     "output_type": "execute_result"
    }
   ],
   "source": [
    "path_to_lacnic_delegation_files = '../../data/processed/delegation_files/lacnic/asns'\n",
    "delegation_file_a = np.array(glob.glob(path_to_lacnic_delegation_files + '/*'))\n",
    "delegation_file_a = np.sort(delegation_file_a)\n",
    "delegation_file_a[-1]"
   ]
  },
  {
   "cell_type": "code",
   "execution_count": 3,
   "metadata": {
    "scrolled": true
   },
   "outputs": [
    {
     "data": {
      "text/html": [
       "<div>\n",
       "<style scoped>\n",
       "    .dataframe tbody tr th:only-of-type {\n",
       "        vertical-align: middle;\n",
       "    }\n",
       "\n",
       "    .dataframe tbody tr th {\n",
       "        vertical-align: top;\n",
       "    }\n",
       "\n",
       "    .dataframe thead th {\n",
       "        text-align: right;\n",
       "    }\n",
       "</style>\n",
       "<table border=\"1\" class=\"dataframe\">\n",
       "  <thead>\n",
       "    <tr style=\"text-align: right;\">\n",
       "      <th></th>\n",
       "      <th>rir</th>\n",
       "      <th>cc</th>\n",
       "      <th>resource</th>\n",
       "      <th>asn</th>\n",
       "      <th>void</th>\n",
       "      <th>allocation_date</th>\n",
       "      <th>status</th>\n",
       "      <th>hash</th>\n",
       "    </tr>\n",
       "  </thead>\n",
       "  <tbody>\n",
       "    <tr>\n",
       "      <th>0</th>\n",
       "      <td>lacnic</td>\n",
       "      <td>*</td>\n",
       "      <td>asn</td>\n",
       "      <td>*</td>\n",
       "      <td>10171</td>\n",
       "      <td>summary</td>\n",
       "      <td>NaN</td>\n",
       "      <td>NaN</td>\n",
       "    </tr>\n",
       "    <tr>\n",
       "      <th>1</th>\n",
       "      <td>lacnic</td>\n",
       "      <td>MX</td>\n",
       "      <td>asn</td>\n",
       "      <td>278</td>\n",
       "      <td>1</td>\n",
       "      <td>19890331</td>\n",
       "      <td>allocated</td>\n",
       "      <td>31986.0</td>\n",
       "    </tr>\n",
       "    <tr>\n",
       "      <th>2</th>\n",
       "      <td>lacnic</td>\n",
       "      <td>AR</td>\n",
       "      <td>asn</td>\n",
       "      <td>676</td>\n",
       "      <td>1</td>\n",
       "      <td>19900523</td>\n",
       "      <td>allocated</td>\n",
       "      <td>65335.0</td>\n",
       "    </tr>\n",
       "    <tr>\n",
       "      <th>3</th>\n",
       "      <td>lacnic</td>\n",
       "      <td>BR</td>\n",
       "      <td>asn</td>\n",
       "      <td>1251</td>\n",
       "      <td>1</td>\n",
       "      <td>19991112</td>\n",
       "      <td>allocated</td>\n",
       "      <td>99087.0</td>\n",
       "    </tr>\n",
       "    <tr>\n",
       "      <th>4</th>\n",
       "      <td>lacnic</td>\n",
       "      <td>MX</td>\n",
       "      <td>asn</td>\n",
       "      <td>1292</td>\n",
       "      <td>1</td>\n",
       "      <td>19910524</td>\n",
       "      <td>allocated</td>\n",
       "      <td>66696.0</td>\n",
       "    </tr>\n",
       "  </tbody>\n",
       "</table>\n",
       "</div>"
      ],
      "text/plain": [
       "      rir  cc resource   asn   void allocation_date     status     hash\n",
       "0  lacnic   *      asn     *  10171         summary        NaN      NaN\n",
       "1  lacnic  MX      asn   278      1        19890331  allocated  31986.0\n",
       "2  lacnic  AR      asn   676      1        19900523  allocated  65335.0\n",
       "3  lacnic  BR      asn  1251      1        19991112  allocated  99087.0\n",
       "4  lacnic  MX      asn  1292      1        19910524  allocated  66696.0"
      ]
     },
     "execution_count": 3,
     "metadata": {},
     "output_type": "execute_result"
    }
   ],
   "source": [
    "lacnic_latest_df = pd.read_csv(\n",
    "    delegation_file_a[-1],\n",
    "    names=[\n",
    "        'rir',\n",
    "        'cc',\n",
    "        'resource',\n",
    "        'asn',\n",
    "        'void',\n",
    "        'allocation_date',\n",
    "        'status',\n",
    "        'hash'\n",
    "    ],\n",
    "    sep='|'\n",
    ")\n",
    "lacnic_latest_df.head()"
   ]
  },
  {
   "cell_type": "markdown",
   "metadata": {},
   "source": [
    "### Delegation file data adecquation"
   ]
  },
  {
   "cell_type": "code",
   "execution_count": 4,
   "metadata": {},
   "outputs": [],
   "source": [
    "def datime2epoch(dt):\n",
    "    #print dt\n",
    "    if dt!='summary':\n",
    "        if str(dt)!='nan':\n",
    "            return (\n",
    "                date(\n",
    "                    int(dt[0:4]),\n",
    "                    int(dt[4:6]),\n",
    "                    int(dt[6:8])\n",
    "                ) - \\\n",
    "                date(1970,1,1)\n",
    "            ).total_seconds()\n",
    "        else:\n",
    "            return -1\n",
    "    else:\n",
    "        return -1"
   ]
  },
  {
   "cell_type": "code",
   "execution_count": 5,
   "metadata": {},
   "outputs": [
    {
     "name": "stdout",
     "output_type": "stream",
     "text": [
      "(10172, 9)\n",
      "(10171, 9)\n"
     ]
    }
   ],
   "source": [
    "# sort values\n",
    "lacnic_latest_df = lacnic_latest_df.sort_values('allocation_date', ascending=True)\n",
    "# Adds epoch column\n",
    "lacnic_latest_df['epoch'] = lacnic_latest_df['allocation_date'].apply(datime2epoch)\n",
    "# remove non-ASN row\n",
    "print(lacnic_latest_df.shape)\n",
    "lacnic_latest_df = lacnic_latest_df.loc[\n",
    "    lacnic_latest_df['asn'] != '*'\n",
    "]\n",
    "print(lacnic_latest_df.shape)\n",
    "# cast ASN to int to then use with AS-REL data frame\n",
    "lacnic_latest_df['asn'] = lacnic_latest_df['asn'].values.astype(float).astype(int)"
   ]
  },
  {
   "cell_type": "markdown",
   "metadata": {},
   "source": [
    "## 2.2 Load CAIDA's AS-REL files"
   ]
  },
  {
   "cell_type": "code",
   "execution_count": 6,
   "metadata": {},
   "outputs": [],
   "source": [
    "path_to_asrel_files = '../../data/raw/asrel'\n",
    "asrel_file_a = np.array(glob.glob(path_to_asrel_files + '/*'))\n",
    "asrel_file_a = np.sort(asrel_file_a)"
   ]
  },
  {
   "cell_type": "code",
   "execution_count": 7,
   "metadata": {},
   "outputs": [
    {
     "name": "stdout",
     "output_type": "stream",
     "text": [
      "No data available for 20140101\n",
      "No data available for 20140201\n",
      "No data available for 20140301\n",
      "No data available for 20140501\n",
      "No data available for 20150301\n",
      "No data available for 20150401\n"
     ]
    }
   ],
   "source": [
    "active_ases_dict={}\n",
    "for file_name in asrel_file_a:\n",
    "    # get date\n",
    "    date_str = file_name.split('/')[-1].split('.')[0]\n",
    "    # open AS-REL file\n",
    "    try:\n",
    "        p2c_df = pd.read_csv(\n",
    "            file_name,\n",
    "            comment='#',\n",
    "            header=None,\n",
    "            sep='|',\n",
    "            compression='bz2'\n",
    "        )\n",
    "        # set column names\n",
    "        p2c_df.columns = ['provider', 'customer', 'type']\n",
    "        active_ases_dict[date_str] = list(\n",
    "            set().union(\n",
    "                p2c_df['provider'].values.tolist(),\n",
    "                p2c_df['customer'].values.tolist()\n",
    "            )\n",
    "        )\n",
    "    except:\n",
    "        print('No data available for %s' % date_str)"
   ]
  },
  {
   "cell_type": "markdown",
   "metadata": {},
   "source": [
    "# 3. LatAm in numbers"
   ]
  },
  {
   "cell_type": "code",
   "execution_count": 8,
   "metadata": {},
   "outputs": [
    {
     "name": "stdout",
     "output_type": "stream",
     "text": [
      "Total number of active ASes in 20190701: 65438\n"
     ]
    }
   ],
   "source": [
    "date_str = delegation_file_a[-1].split('/')[-1].replace('_','')\n",
    "print('Total number of active ASes in %s: %s' % (date_str, len(active_ases_dict[date_str])))"
   ]
  },
  {
   "cell_type": "code",
   "execution_count": 9,
   "metadata": {},
   "outputs": [
    {
     "name": "stdout",
     "output_type": "stream",
     "text": [
      "Delegated ASes in LatAm in 20190701: 10171\n"
     ]
    }
   ],
   "source": [
    "date_str = delegation_file_a[-1].split('/')[-1].replace('_','')\n",
    "delegated_ases_cnt = lacnic_latest_df['asn'].values.size\n",
    "print('Delegated ASes in LatAm in %s: %s' % (date_str, delegated_ases_cnt))"
   ]
  },
  {
   "cell_type": "code",
   "execution_count": 10,
   "metadata": {},
   "outputs": [
    {
     "name": "stdout",
     "output_type": "stream",
     "text": [
      "Delegated & Active ASes in LatAm in 20190701: 8661\n"
     ]
    }
   ],
   "source": [
    "date_str = delegation_file_a[-1].split('/')[-1].replace('_','')\n",
    "active_ases_cnt = lacnic_latest_df.loc[\n",
    "    (\n",
    "        lacnic_latest_df['asn'].isin(\n",
    "            active_ases_dict[date_str]\n",
    "        )\n",
    "    )\n",
    "]['asn'].values.size\n",
    "print('Delegated & Active ASes in LatAm in %s: %s' % (date_str, active_ases_cnt))"
   ]
  },
  {
   "cell_type": "code",
   "execution_count": 11,
   "metadata": {},
   "outputs": [
    {
     "name": "stdout",
     "output_type": "stream",
     "text": [
      "Delegated & Active ASes in BR in 20190701: 6458\n",
      "Delegated & Active ASes in AR in 20190701: 791\n",
      "Delegated & Active ASes in CL in 20190701: 241\n"
     ]
    }
   ],
   "source": [
    "date_str = delegation_file_a[-1].split('/')[-1].replace('_','')\n",
    "for cc in ['BR', 'AR', 'CL']:\n",
    "    active_ases_cnt =lacnic_latest_df.loc[\n",
    "        (\n",
    "            lacnic_latest_df['asn'].isin(\n",
    "                active_ases_dict[date_str]\n",
    "            )\n",
    "        ) & \n",
    "        (\n",
    "            lacnic_latest_df['cc'] == cc\n",
    "        ) \n",
    "    ]['asn'].values.size\n",
    "    print('Delegated & Active ASes in %s in %s: %s' % (cc, date_str, active_ases_cnt))"
   ]
  },
  {
   "cell_type": "markdown",
   "metadata": {},
   "source": [
    "# 4. RIPE Atlas: Looking for active probes in LatAm"
   ]
  },
  {
   "cell_type": "markdown",
   "metadata": {},
   "source": [
    "We would like to thank to Malte Hasen (temporary intern at University of Buenos Aires) for providing this piece of code"
   ]
  },
  {
   "cell_type": "code",
   "execution_count": 12,
   "metadata": {},
   "outputs": [],
   "source": [
    "# function that transforms the json-html_data into a html_dataFrame\n",
    "def ripe_filter(html_data):\n",
    "    output_list = []\n",
    "    for i in range(0, len(html_data['results'])):\n",
    "        # assert that the probe has an ipv4interface and is connected\n",
    "        if (html_data['results'][i]['asn_v4']) and \\\n",
    "        (\n",
    "            (html_data['results'][i]['status']['name'] == 'Connected') or \\\n",
    "            (html_data['results'][i]['status']['name'] == 'Disconnected')\n",
    "        ):\n",
    "#         if (html_data['results'][i]['asn_v4']):\n",
    "            output_list.append(\n",
    "                (\n",
    "                    html_data['results'][i]['country_code'],\n",
    "                    html_data['results'][i]['id'],\n",
    "                )\n",
    "            )\n",
    "    return output_list"
   ]
  },
  {
   "cell_type": "code",
   "execution_count": 13,
   "metadata": {},
   "outputs": [],
   "source": [
    "# https://atlas.ripe.net/docs/api/v2/manual/overview/generic_query_parameters.html\n",
    "# This is the link where all the REQUEST parameters are detailed\n",
    "# https://atlas.ripe.net/docs/api/v2/reference/#!/probes/Probe_List_GET\n",
    "URL_LATAM = (\"https://atlas.ripe.net/api/v2/probes/?latitude__gte=-54.8\"\n",
    "       + \"&latitude__lte=32.6&longitude__gte=-117.1&longitude__lte=-34.8\"\n",
    "       + \"&status=1\"\n",
    "       + \"&page_size=500\")\n",
    "URL_WOLRDWIDE = (\"https://atlas.ripe.net/api/v2/probes/?status=1\")\n",
    "URL_cc = (\"https://atlas.ripe.net/api/v2/probes/\"\n",
    "       + \"?status=1\"\n",
    "       + \"&country_code=%s\"\n",
    "       + \"&page_size=500\")"
   ]
  },
  {
   "cell_type": "code",
   "execution_count": 14,
   "metadata": {},
   "outputs": [],
   "source": [
    "html_data_latam = requests.get(url=URL_LATAM).json()\n",
    "html_data_worldwide = requests.get(url=URL_WOLRDWIDE).json()"
   ]
  },
  {
   "cell_type": "code",
   "execution_count": 15,
   "metadata": {},
   "outputs": [
    {
     "name": "stdout",
     "output_type": "stream",
     "text": [
      "print connected RIPE Atlas probes in LatAm: 387\n",
      "print connected RIPE Atlas probes in the World: 10180\n"
     ]
    }
   ],
   "source": [
    "print(\"print connected RIPE Atlas probes in LatAm: %d\" % html_data_latam['count'])\n",
    "print(\"print connected RIPE Atlas probes in the World: %d\" %html_data_worldwide['count'])"
   ]
  },
  {
   "cell_type": "code",
   "execution_count": 16,
   "metadata": {},
   "outputs": [
    {
     "name": "stdout",
     "output_type": "stream",
     "text": [
      "print connected RIPE Atlas probes in US: 1191\n",
      "print connected RIPE Atlas probes in AU: 164\n",
      "print connected RIPE Atlas probes in DE: 1386\n",
      "print connected RIPE Atlas probes in JP: 181\n",
      "print connected RIPE Atlas probes in ZA: 100\n"
     ]
    }
   ],
   "source": [
    "for cc in ['US', 'AU', 'DE', 'JP', 'ZA']:\n",
    "    html_data_cc = requests.get(url=URL_cc % cc).json()\n",
    "    print(\"print connected RIPE Atlas probes in %s: %d\" % (cc, html_data_cc['count']))"
   ]
  },
  {
   "cell_type": "code",
   "execution_count": 17,
   "metadata": {},
   "outputs": [],
   "source": [
    "# filter data and add it to the DataFrame\n",
    "ripe_probes_latam_country_location_df = pd.DataFrame(\n",
    "    ripe_filter(html_data_latam),\n",
    "    columns=['cc','id']\n",
    ")"
   ]
  },
  {
   "cell_type": "code",
   "execution_count": 18,
   "metadata": {},
   "outputs": [
    {
     "data": {
      "text/html": [
       "<div>\n",
       "<style scoped>\n",
       "    .dataframe tbody tr th:only-of-type {\n",
       "        vertical-align: middle;\n",
       "    }\n",
       "\n",
       "    .dataframe tbody tr th {\n",
       "        vertical-align: top;\n",
       "    }\n",
       "\n",
       "    .dataframe thead th {\n",
       "        text-align: right;\n",
       "    }\n",
       "</style>\n",
       "<table border=\"1\" class=\"dataframe\">\n",
       "  <thead>\n",
       "    <tr style=\"text-align: right;\">\n",
       "      <th></th>\n",
       "      <th>cc</th>\n",
       "      <th>id</th>\n",
       "    </tr>\n",
       "  </thead>\n",
       "  <tbody>\n",
       "    <tr>\n",
       "      <th>22</th>\n",
       "      <td>MX</td>\n",
       "      <td>26</td>\n",
       "    </tr>\n",
       "    <tr>\n",
       "      <th>7</th>\n",
       "      <td>CL</td>\n",
       "      <td>28</td>\n",
       "    </tr>\n",
       "    <tr>\n",
       "      <th>0</th>\n",
       "      <td>AR</td>\n",
       "      <td>37</td>\n",
       "    </tr>\n",
       "    <tr>\n",
       "      <th>5</th>\n",
       "      <td>BR</td>\n",
       "      <td>69</td>\n",
       "    </tr>\n",
       "    <tr>\n",
       "      <th>31</th>\n",
       "      <td>US</td>\n",
       "      <td>88</td>\n",
       "    </tr>\n",
       "  </tbody>\n",
       "</table>\n",
       "</div>"
      ],
      "text/plain": [
       "    cc  id\n",
       "22  MX  26\n",
       "7   CL  28\n",
       "0   AR  37\n",
       "5   BR  69\n",
       "31  US  88"
      ]
     },
     "execution_count": 18,
     "metadata": {},
     "output_type": "execute_result"
    }
   ],
   "source": [
    "count_bycountry_df = ripe_probes_latam_country_location_df.groupby('cc')['id'].count().reset_index()\n",
    "count_bycountry_df = count_bycountry_df.sort_values('id')\n",
    "count_bycountry_df.tail()"
   ]
  }
 ],
 "metadata": {
  "kernelspec": {
   "display_name": "latam-ixp-obs",
   "language": "python",
   "name": "latam-ixp-obs"
  },
  "language_info": {
   "codemirror_mode": {
    "name": "ipython",
    "version": 3
   },
   "file_extension": ".py",
   "mimetype": "text/x-python",
   "name": "python",
   "nbconvert_exporter": "python",
   "pygments_lexer": "ipython3",
   "version": "3.6.7"
  }
 },
 "nbformat": 4,
 "nbformat_minor": 2
}
