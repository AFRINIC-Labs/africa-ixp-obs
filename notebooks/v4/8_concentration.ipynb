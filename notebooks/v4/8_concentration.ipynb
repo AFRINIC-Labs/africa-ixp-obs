{
 "cells": [
  {
   "cell_type": "markdown",
   "metadata": {},
   "source": [
    "# 1. Imports"
   ]
  },
  {
   "cell_type": "code",
   "execution_count": 1,
   "metadata": {},
   "outputs": [],
   "source": [
    "import os\n",
    "import glob\n",
    "import numpy as np\n",
    "import pandas as pd\n",
    "from datetime import timedelta, date\n",
    "import matplotlib.pyplot as pl\n",
    "%matplotlib inline\n",
    "import itertools"
   ]
  },
  {
   "cell_type": "markdown",
   "metadata": {},
   "source": [
    "# 2. Functions"
   ]
  },
  {
   "cell_type": "code",
   "execution_count": 2,
   "metadata": {},
   "outputs": [],
   "source": [
    "# https://github.com/open-risk/concentrationMetrics\n",
    "def hhi(data, normalized=True, ci=None, samples=None):\n",
    "    \"\"\" Calculate the Herfindahl-Hirschman index\n",
    "    :param data: Positive data\n",
    "    :type data: numpy array\n",
    "    :return: HHI (Float)\n",
    "    `Open Risk Manual Entry for Hirschman-Herfindahl Index <https://www.openriskmanual.org/wiki/Herfindahl-Hirschman_Index>`_\n",
    "    \"\"\"\n",
    "    # Normalize the data\n",
    "    weights = get_weights(data)\n",
    "    n = weights.size\n",
    "    # Compute the HHI\n",
    "    if n == 0:\n",
    "        return 0\n",
    "    else:\n",
    "        h = np.square(weights).sum()\n",
    "        if normalized:\n",
    "            return (h - 1.0 / n) / (1.0 - 1.0 / n)\n",
    "        else:\n",
    "            return h\n",
    "        \n",
    "def get_weights(data):\n",
    "    \"\"\" Calculate data weights\n",
    "    :param data: Positive data of weights\n",
    "    :type data: numpy array\n",
    "    :return: Vector weights\n",
    "    :raise: TypeError if negative total size\n",
    "    \"\"\"\n",
    "    try:\n",
    "        # select the first column only\n",
    "        if len(data.shape) > 1:\n",
    "            data = data[:, 0]\n",
    "        # print(data)\n",
    "    except:\n",
    "        print(\"Data is not in numpy format\")\n",
    "        exit()\n",
    "    ts = np.sum(data)\n",
    "    if ts <= 0:\n",
    "        raise TypeError('Input data vector must have positive values')\n",
    "        exit()\n",
    "    else:\n",
    "        return np.true_divide(data, ts)"
   ]
  },
  {
   "cell_type": "markdown",
   "metadata": {},
   "source": [
    "# 3. Load data"
   ]
  },
  {
   "cell_type": "markdown",
   "metadata": {},
   "source": [
    "## 3.1 LACNIC"
   ]
  },
  {
   "cell_type": "code",
   "execution_count": 3,
   "metadata": {},
   "outputs": [],
   "source": [
    "path_to_addr_space = '../../data/processed/origin_addr_space/lacnic'\n",
    "files_addr_space = glob.glob(path_to_addr_space + '/*_07_*')\n",
    "files_addr_space = np.sort(files_addr_space)"
   ]
  },
  {
   "cell_type": "code",
   "execution_count": 4,
   "metadata": {},
   "outputs": [],
   "source": [
    "lacnic_addr_space = pd.read_csv(\n",
    "    files_addr_space[-1],\n",
    "    header='infer',\n",
    "    sep=','\n",
    ")"
   ]
  },
  {
   "cell_type": "markdown",
   "metadata": {},
   "source": [
    "## 3.2 outside LACNIC"
   ]
  },
  {
   "cell_type": "code",
   "execution_count": 5,
   "metadata": {},
   "outputs": [],
   "source": [
    "path_to_addr_space = '../../data/processed/origin_addr_space/ripe'\n",
    "files_addr_space = glob.glob(path_to_addr_space + '/*_07_*')\n",
    "files_addr_space = np.sort(files_addr_space)"
   ]
  },
  {
   "cell_type": "code",
   "execution_count": 6,
   "metadata": {},
   "outputs": [],
   "source": [
    "ripe_addr_space = pd.read_csv(\n",
    "    files_addr_space[-1],\n",
    "    header='infer',\n",
    "    sep=','\n",
    ")"
   ]
  },
  {
   "cell_type": "code",
   "execution_count": 7,
   "metadata": {},
   "outputs": [],
   "source": [
    "path_to_addr_space = '../../data/processed/origin_addr_space/apnic'\n",
    "files_addr_space = glob.glob(path_to_addr_space + '/*_07_*')\n",
    "files_addr_space = np.sort(files_addr_space)"
   ]
  },
  {
   "cell_type": "code",
   "execution_count": 8,
   "metadata": {},
   "outputs": [],
   "source": [
    "apnic_addr_space = pd.read_csv(\n",
    "    files_addr_space[-1],\n",
    "    header='infer',\n",
    "    sep=','\n",
    ")"
   ]
  },
  {
   "cell_type": "code",
   "execution_count": 9,
   "metadata": {},
   "outputs": [],
   "source": [
    "path_to_addr_space = '../../data/processed/origin_addr_space/afrinic'\n",
    "files_addr_space = glob.glob(path_to_addr_space + '/*_07_*')\n",
    "files_addr_space = np.sort(files_addr_space)"
   ]
  },
  {
   "cell_type": "code",
   "execution_count": 10,
   "metadata": {},
   "outputs": [],
   "source": [
    "afrinic_addr_space = pd.read_csv(\n",
    "    files_addr_space[-1],\n",
    "    header='infer',\n",
    "    sep=','\n",
    ")"
   ]
  },
  {
   "cell_type": "markdown",
   "metadata": {},
   "source": [
    "# 4. Compute HHI"
   ]
  },
  {
   "cell_type": "markdown",
   "metadata": {},
   "source": [
    "## 4.1 LACNIC"
   ]
  },
  {
   "cell_type": "code",
   "execution_count": 11,
   "metadata": {},
   "outputs": [
    {
     "name": "stderr",
     "output_type": "stream",
     "text": [
      "/home/carisimo/latam-ixp-obs/latam-ixp-obs/lib/python3.6/site-packages/ipykernel_launcher.py:7: SettingWithCopyWarning: \n",
      "A value is trying to be set on a copy of a slice from a DataFrame.\n",
      "Try using .loc[row_indexer,col_indexer] = value instead\n",
      "\n",
      "See the caveats in the documentation: http://pandas.pydata.org/pandas-docs/stable/indexing.html#indexing-view-versus-copy\n",
      "  import sys\n"
     ]
    }
   ],
   "source": [
    "output_list = []\n",
    "for cc in lacnic_addr_space.drop_duplicates('cc')['cc'].values:\n",
    "    cc_df = lacnic_addr_space.loc[\n",
    "        lacnic_addr_space['cc'] == cc\n",
    "    ]\n",
    "    total_country = cc_df.loc[cc_df['cc'] == cc]['ip-cnt'].sum()\n",
    "    cc_df['ip-frac'] = cc_df['ip-cnt'].values / float(total_country)\n",
    "    output_list.append((cc, total_country, hhi(cc_df['ip-frac'].values)))"
   ]
  },
  {
   "cell_type": "code",
   "execution_count": 12,
   "metadata": {},
   "outputs": [
    {
     "data": {
      "text/html": [
       "<div>\n",
       "<style scoped>\n",
       "    .dataframe tbody tr th:only-of-type {\n",
       "        vertical-align: middle;\n",
       "    }\n",
       "\n",
       "    .dataframe tbody tr th {\n",
       "        vertical-align: top;\n",
       "    }\n",
       "\n",
       "    .dataframe thead th {\n",
       "        text-align: right;\n",
       "    }\n",
       "</style>\n",
       "<table border=\"1\" class=\"dataframe\">\n",
       "  <thead>\n",
       "    <tr style=\"text-align: right;\">\n",
       "      <th></th>\n",
       "      <th>cc</th>\n",
       "      <th>total</th>\n",
       "      <th>metric</th>\n",
       "    </tr>\n",
       "  </thead>\n",
       "  <tbody>\n",
       "    <tr>\n",
       "      <th>6</th>\n",
       "      <td>SR</td>\n",
       "      <td>80896</td>\n",
       "      <td>0.889441</td>\n",
       "    </tr>\n",
       "    <tr>\n",
       "      <th>28</th>\n",
       "      <td>AW</td>\n",
       "      <td>61952</td>\n",
       "      <td>0.853061</td>\n",
       "    </tr>\n",
       "    <tr>\n",
       "      <th>1</th>\n",
       "      <td>UY</td>\n",
       "      <td>2382592</td>\n",
       "      <td>0.812280</td>\n",
       "    </tr>\n",
       "    <tr>\n",
       "      <th>14</th>\n",
       "      <td>GY</td>\n",
       "      <td>67072</td>\n",
       "      <td>0.683403</td>\n",
       "    </tr>\n",
       "    <tr>\n",
       "      <th>7</th>\n",
       "      <td>PY</td>\n",
       "      <td>1104640</td>\n",
       "      <td>0.541007</td>\n",
       "    </tr>\n",
       "  </tbody>\n",
       "</table>\n",
       "</div>"
      ],
      "text/plain": [
       "    cc    total    metric\n",
       "6   SR    80896  0.889441\n",
       "28  AW    61952  0.853061\n",
       "1   UY  2382592  0.812280\n",
       "14  GY    67072  0.683403\n",
       "7   PY  1104640  0.541007"
      ]
     },
     "execution_count": 12,
     "metadata": {},
     "output_type": "execute_result"
    }
   ],
   "source": [
    "hhi_df = pd.DataFrame(\n",
    "    output_list,\n",
    "    columns=[\n",
    "        'cc',\n",
    "        'total',\n",
    "        'metric',\n",
    "    ]\n",
    ")\n",
    "hhi_df = hhi_df.sort_values('metric', ascending=False)\n",
    "hhi_df.head()"
   ]
  },
  {
   "cell_type": "markdown",
   "metadata": {},
   "source": [
    "## 4.2 outside LACNIC"
   ]
  },
  {
   "cell_type": "code",
   "execution_count": 13,
   "metadata": {},
   "outputs": [
    {
     "name": "stderr",
     "output_type": "stream",
     "text": [
      "/home/carisimo/latam-ixp-obs/latam-ixp-obs/lib/python3.6/site-packages/ipykernel_launcher.py:7: SettingWithCopyWarning: \n",
      "A value is trying to be set on a copy of a slice from a DataFrame.\n",
      "Try using .loc[row_indexer,col_indexer] = value instead\n",
      "\n",
      "See the caveats in the documentation: http://pandas.pydata.org/pandas-docs/stable/indexing.html#indexing-view-versus-copy\n",
      "  import sys\n",
      "/home/carisimo/latam-ixp-obs/latam-ixp-obs/lib/python3.6/site-packages/ipykernel_launcher.py:14: SettingWithCopyWarning: \n",
      "A value is trying to be set on a copy of a slice from a DataFrame.\n",
      "Try using .loc[row_indexer,col_indexer] = value instead\n",
      "\n",
      "See the caveats in the documentation: http://pandas.pydata.org/pandas-docs/stable/indexing.html#indexing-view-versus-copy\n",
      "  \n",
      "/home/carisimo/latam-ixp-obs/latam-ixp-obs/lib/python3.6/site-packages/ipykernel_launcher.py:21: SettingWithCopyWarning: \n",
      "A value is trying to be set on a copy of a slice from a DataFrame.\n",
      "Try using .loc[row_indexer,col_indexer] = value instead\n",
      "\n",
      "See the caveats in the documentation: http://pandas.pydata.org/pandas-docs/stable/indexing.html#indexing-view-versus-copy\n"
     ]
    }
   ],
   "source": [
    "output_list = []\n",
    "for cc in ['FR', 'DE']:\n",
    "    cc_df = ripe_addr_space.loc[\n",
    "        ripe_addr_space['cc'] == cc\n",
    "    ]\n",
    "    total_country = cc_df.loc[cc_df['cc'] == cc]['ip-cnt'].sum()\n",
    "    cc_df['ip-frac'] = cc_df['ip-cnt'].values / float(total_country)\n",
    "    output_list.append((cc, total_country, hhi(cc_df['ip-frac'].values)))\n",
    "for cc in ['ZA', ]:\n",
    "    cc_df = afrinic_addr_space.loc[\n",
    "        afrinic_addr_space['cc'] == cc\n",
    "    ]\n",
    "    total_country = cc_df.loc[cc_df['cc'] == cc]['ip-cnt'].sum()\n",
    "    cc_df['ip-frac'] = cc_df['ip-cnt'].values / float(total_country)\n",
    "    output_list.append((cc, total_country, hhi(cc_df['ip-frac'].values)))\n",
    "for cc in ['TH', ]:\n",
    "    cc_df = apnic_addr_space.loc[\n",
    "        apnic_addr_space['cc'] == cc\n",
    "    ]\n",
    "    total_country = cc_df.loc[cc_df['cc'] == cc]['ip-cnt'].sum()\n",
    "    cc_df['ip-frac'] = cc_df['ip-cnt'].values / float(total_country)\n",
    "    output_list.append((cc, total_country, hhi(cc_df['ip-frac'].values)))"
   ]
  },
  {
   "cell_type": "code",
   "execution_count": 14,
   "metadata": {},
   "outputs": [
    {
     "data": {
      "text/html": [
       "<div>\n",
       "<style scoped>\n",
       "    .dataframe tbody tr th:only-of-type {\n",
       "        vertical-align: middle;\n",
       "    }\n",
       "\n",
       "    .dataframe tbody tr th {\n",
       "        vertical-align: top;\n",
       "    }\n",
       "\n",
       "    .dataframe thead th {\n",
       "        text-align: right;\n",
       "    }\n",
       "</style>\n",
       "<table border=\"1\" class=\"dataframe\">\n",
       "  <thead>\n",
       "    <tr style=\"text-align: right;\">\n",
       "      <th></th>\n",
       "      <th>cc</th>\n",
       "      <th>total</th>\n",
       "      <th>metric</th>\n",
       "    </tr>\n",
       "  </thead>\n",
       "  <tbody>\n",
       "    <tr>\n",
       "      <th>0</th>\n",
       "      <td>FR</td>\n",
       "      <td>71109042</td>\n",
       "      <td>0.140335</td>\n",
       "    </tr>\n",
       "    <tr>\n",
       "      <th>1</th>\n",
       "      <td>DE</td>\n",
       "      <td>104086608</td>\n",
       "      <td>0.120280</td>\n",
       "    </tr>\n",
       "    <tr>\n",
       "      <th>3</th>\n",
       "      <td>TH</td>\n",
       "      <td>10378752</td>\n",
       "      <td>0.065572</td>\n",
       "    </tr>\n",
       "    <tr>\n",
       "      <th>2</th>\n",
       "      <td>ZA</td>\n",
       "      <td>27320848</td>\n",
       "      <td>0.056668</td>\n",
       "    </tr>\n",
       "  </tbody>\n",
       "</table>\n",
       "</div>"
      ],
      "text/plain": [
       "   cc      total    metric\n",
       "0  FR   71109042  0.140335\n",
       "1  DE  104086608  0.120280\n",
       "3  TH   10378752  0.065572\n",
       "2  ZA   27320848  0.056668"
      ]
     },
     "execution_count": 14,
     "metadata": {},
     "output_type": "execute_result"
    }
   ],
   "source": [
    "hhi_extra_df = pd.DataFrame(\n",
    "    output_list,\n",
    "    columns=[\n",
    "        'cc',\n",
    "        'total',\n",
    "        'metric',\n",
    "    ]\n",
    ")\n",
    "hhi_extra_df = hhi_extra_df.sort_values('metric', ascending=False)\n",
    "hhi_extra_df"
   ]
  },
  {
   "cell_type": "code",
   "execution_count": 15,
   "metadata": {},
   "outputs": [],
   "source": [
    "# v = []\n",
    "# for cc in delegated_addr_space_by_as_cc_df.drop_duplicates('cc')['cc'].values:\n",
    "#     cc_df = delegated_addr_space_by_as_cc_df.loc[\n",
    "#         delegated_addr_space_by_as_cc_df['cc'] == cc]\n",
    "#     total_country = cc_df.loc[cc_df['cc'] == cc]['ip-cnt'].sum()\n",
    "#     cc_df['ip-frac'] = cc_df['ip-cnt'].values / float(total_country)\n",
    "#     v.append(cc_df['ip-frac'].values)\n",
    "# v = np.array(v)"
   ]
  },
  {
   "cell_type": "markdown",
   "metadata": {},
   "source": [
    "# 5. Plot"
   ]
  },
  {
   "cell_type": "code",
   "execution_count": 16,
   "metadata": {},
   "outputs": [
    {
     "data": {
      "image/png": "[encoded data removed]",
      "text/plain": [
       "<Figure size 720x216 with 1 Axes>"
      ]
     },
     "metadata": {
      "needs_background": "light"
     },
     "output_type": "display_data"
    }
   ],
   "source": [
    "COUNTRY_ADDR_SPACE_THRESHOLD = 1e6\n",
    "fig, ax1 = pl.subplots(1, figsize=(10, 3))\n",
    "ax1.yaxis.grid(True, linestyle='-', color='#bababa', alpha=0.5)\n",
    "ax1.xaxis.grid(True, linestyle='-', color='#bababa', alpha=0.5)\n",
    "ax1.plot(\n",
    "    np.arange(\n",
    "        1,\n",
    "        hhi_df.loc[\n",
    "            hhi_df['total'] > COUNTRY_ADDR_SPACE_THRESHOLD\n",
    "        ]['metric'].size + 1\n",
    "    ),\n",
    "    hhi_df.loc[\n",
    "        hhi_df['total'] > COUNTRY_ADDR_SPACE_THRESHOLD\n",
    "    ]['metric'].values,\n",
    "    color='#6E6E6E',\n",
    "    linestyle='--'\n",
    ")\n",
    "ax1.scatter(\n",
    "    (1,4,5),\n",
    "    hhi_df.loc[\n",
    "        hhi_df['total'] > COUNTRY_ADDR_SPACE_THRESHOLD\n",
    "    ]['metric'].values[[0,3,4]],\n",
    "    s=130,\n",
    "    marker='o',\n",
    "    c='red',\n",
    "    label='No IXP'\n",
    ")\n",
    "ax1.scatter(\n",
    "    [2,3, 6, 7, 8, 9, 10, 11, 12, 13, 14],\n",
    "    hhi_df.loc[\n",
    "        hhi_df['total'] > COUNTRY_ADDR_SPACE_THRESHOLD\n",
    "    ]['metric'].values[[ 1,2, 5, 6, 7, 8, 9, 10, 11, 12, 13]],\n",
    "    s=130,\n",
    "    marker='d',\n",
    "    c='green',\n",
    "    label='IXP'\n",
    ")\n",
    "\n",
    "\n",
    "ax1.set_xticks(\n",
    "    np.arange(\n",
    "        1,\n",
    "        hhi_df.loc[\n",
    "            hhi_df['total'] > COUNTRY_ADDR_SPACE_THRESHOLD\n",
    "        ]['metric'].size + 1),\n",
    "    minor=False\n",
    ")\n",
    "ax1.set_xticklabels(\n",
    "    hhi_df.loc[\n",
    "        hhi_df['total'] > COUNTRY_ADDR_SPACE_THRESHOLD\n",
    "    ]['cc'].values,\n",
    "    rotation=0,\n",
    "    minor=False,\n",
    "    ha='center',\n",
    "    fontsize=14\n",
    ")\n",
    "# ax1.set_yscale('log')\n",
    "ax1.set_yticks(np.arange(0, 1.01, 0.1), minor=False)\n",
    "ylabels_list = []\n",
    "for i in np.arange(0, 1.0001, 0.1):\n",
    "    if (np.floor(i*10))%2==0:\n",
    "        ylabels_list.append(str('%.1f'%i))\n",
    "    else:\n",
    "        ylabels_list.append('')\n",
    "\n",
    "ax1.set_yticklabels(ylabels_list, minor=False)\n",
    "ax1.set_ylabel('HH index', fontsize=20)\n",
    "ax1.tick_params(labelsize=20)\n",
    "ax1.legend(loc='upper right', ncol=1, frameon=False, fontsize=20)\n",
    "fig.subplots_adjust(hspace=0)\n",
    "fig.tight_layout()\n",
    "fig.savefig('../../figures/hh.pdf')"
   ]
  },
  {
   "cell_type": "markdown",
   "metadata": {},
   "source": [
    "# 6. Looking some countries in detail"
   ]
  },
  {
   "cell_type": "code",
   "execution_count": 17,
   "metadata": {},
   "outputs": [
    {
     "name": "stdout",
     "output_type": "stream",
     "text": [
      "-----------\n",
      "country's total: 2382592\n"
     ]
    },
    {
     "name": "stderr",
     "output_type": "stream",
     "text": [
      "/home/carisimo/latam-ixp-obs/latam-ixp-obs/lib/python3.6/site-packages/ipykernel_launcher.py:4: SettingWithCopyWarning: \n",
      "A value is trying to be set on a copy of a slice from a DataFrame.\n",
      "Try using .loc[row_indexer,col_indexer] = value instead\n",
      "\n",
      "See the caveats in the documentation: http://pandas.pydata.org/pandas-docs/stable/indexing.html#indexing-view-versus-copy\n",
      "  after removing the cwd from sys.path.\n"
     ]
    },
    {
     "data": {
      "text/html": [
       "<div>\n",
       "<style scoped>\n",
       "    .dataframe tbody tr th:only-of-type {\n",
       "        vertical-align: middle;\n",
       "    }\n",
       "\n",
       "    .dataframe tbody tr th {\n",
       "        vertical-align: top;\n",
       "    }\n",
       "\n",
       "    .dataframe thead th {\n",
       "        text-align: right;\n",
       "    }\n",
       "</style>\n",
       "<table border=\"1\" class=\"dataframe\">\n",
       "  <thead>\n",
       "    <tr style=\"text-align: right;\">\n",
       "      <th></th>\n",
       "      <th>cc</th>\n",
       "      <th>origin-asn</th>\n",
       "      <th>ip-cnt</th>\n",
       "      <th>ip-frac</th>\n",
       "    </tr>\n",
       "  </thead>\n",
       "  <tbody>\n",
       "    <tr>\n",
       "      <th>83</th>\n",
       "      <td>UY</td>\n",
       "      <td>6057</td>\n",
       "      <td>2154496</td>\n",
       "      <td>0.904266</td>\n",
       "    </tr>\n",
       "    <tr>\n",
       "      <th>84</th>\n",
       "      <td>UY</td>\n",
       "      <td>19422</td>\n",
       "      <td>90112</td>\n",
       "      <td>0.037821</td>\n",
       "    </tr>\n",
       "  </tbody>\n",
       "</table>\n",
       "</div>"
      ],
      "text/plain": [
       "    cc origin-asn   ip-cnt   ip-frac\n",
       "83  UY       6057  2154496  0.904266\n",
       "84  UY      19422    90112  0.037821"
      ]
     },
     "metadata": {},
     "output_type": "display_data"
    },
    {
     "name": "stdout",
     "output_type": "stream",
     "text": [
      "-----------\n",
      "country's total: 5147136\n"
     ]
    },
    {
     "data": {
      "text/html": [
       "<div>\n",
       "<style scoped>\n",
       "    .dataframe tbody tr th:only-of-type {\n",
       "        vertical-align: middle;\n",
       "    }\n",
       "\n",
       "    .dataframe tbody tr th {\n",
       "        vertical-align: top;\n",
       "    }\n",
       "\n",
       "    .dataframe thead th {\n",
       "        text-align: right;\n",
       "    }\n",
       "</style>\n",
       "<table border=\"1\" class=\"dataframe\">\n",
       "  <thead>\n",
       "    <tr style=\"text-align: right;\">\n",
       "      <th></th>\n",
       "      <th>cc</th>\n",
       "      <th>origin-asn</th>\n",
       "      <th>ip-cnt</th>\n",
       "      <th>ip-frac</th>\n",
       "    </tr>\n",
       "  </thead>\n",
       "  <tbody>\n",
       "    <tr>\n",
       "      <th>0</th>\n",
       "      <td>VE</td>\n",
       "      <td>8048</td>\n",
       "      <td>2846208</td>\n",
       "      <td>0.552969</td>\n",
       "    </tr>\n",
       "    <tr>\n",
       "      <th>1</th>\n",
       "      <td>VE</td>\n",
       "      <td>6306</td>\n",
       "      <td>628736</td>\n",
       "      <td>0.122153</td>\n",
       "    </tr>\n",
       "  </tbody>\n",
       "</table>\n",
       "</div>"
      ],
      "text/plain": [
       "   cc origin-asn   ip-cnt   ip-frac\n",
       "0  VE       8048  2846208  0.552969\n",
       "1  VE       6306   628736  0.122153"
      ]
     },
     "metadata": {},
     "output_type": "display_data"
    },
    {
     "name": "stdout",
     "output_type": "stream",
     "text": [
      "-----------\n",
      "country's total: 2423072\n"
     ]
    },
    {
     "data": {
      "text/html": [
       "<div>\n",
       "<style scoped>\n",
       "    .dataframe tbody tr th:only-of-type {\n",
       "        vertical-align: middle;\n",
       "    }\n",
       "\n",
       "    .dataframe tbody tr th {\n",
       "        vertical-align: top;\n",
       "    }\n",
       "\n",
       "    .dataframe thead th {\n",
       "        text-align: right;\n",
       "    }\n",
       "</style>\n",
       "<table border=\"1\" class=\"dataframe\">\n",
       "  <thead>\n",
       "    <tr style=\"text-align: right;\">\n",
       "      <th></th>\n",
       "      <th>cc</th>\n",
       "      <th>origin-asn</th>\n",
       "      <th>ip-cnt</th>\n",
       "      <th>ip-frac</th>\n",
       "    </tr>\n",
       "  </thead>\n",
       "  <tbody>\n",
       "    <tr>\n",
       "      <th>1049</th>\n",
       "      <td>CR</td>\n",
       "      <td>11830</td>\n",
       "      <td>1515520</td>\n",
       "      <td>0.625454</td>\n",
       "    </tr>\n",
       "    <tr>\n",
       "      <th>1050</th>\n",
       "      <td>CR</td>\n",
       "      <td>52228</td>\n",
       "      <td>196608</td>\n",
       "      <td>0.081140</td>\n",
       "    </tr>\n",
       "  </tbody>\n",
       "</table>\n",
       "</div>"
      ],
      "text/plain": [
       "      cc origin-asn   ip-cnt   ip-frac\n",
       "1049  CR      11830  1515520  0.625454\n",
       "1050  CR      52228   196608  0.081140"
      ]
     },
     "metadata": {},
     "output_type": "display_data"
    },
    {
     "name": "stdout",
     "output_type": "stream",
     "text": [
      "-----------\n",
      "country's total: 24904608\n"
     ]
    },
    {
     "data": {
      "text/html": [
       "<div>\n",
       "<style scoped>\n",
       "    .dataframe tbody tr th:only-of-type {\n",
       "        vertical-align: middle;\n",
       "    }\n",
       "\n",
       "    .dataframe tbody tr th {\n",
       "        vertical-align: top;\n",
       "    }\n",
       "\n",
       "    .dataframe thead th {\n",
       "        text-align: right;\n",
       "    }\n",
       "</style>\n",
       "<table border=\"1\" class=\"dataframe\">\n",
       "  <thead>\n",
       "    <tr style=\"text-align: right;\">\n",
       "      <th></th>\n",
       "      <th>cc</th>\n",
       "      <th>origin-asn</th>\n",
       "      <th>ip-cnt</th>\n",
       "      <th>ip-frac</th>\n",
       "    </tr>\n",
       "  </thead>\n",
       "  <tbody>\n",
       "    <tr>\n",
       "      <th>419</th>\n",
       "      <td>MX</td>\n",
       "      <td>8151</td>\n",
       "      <td>13736736</td>\n",
       "      <td>0.551574</td>\n",
       "    </tr>\n",
       "    <tr>\n",
       "      <th>420</th>\n",
       "      <td>MX</td>\n",
       "      <td>13999</td>\n",
       "      <td>2046976</td>\n",
       "      <td>0.082193</td>\n",
       "    </tr>\n",
       "  </tbody>\n",
       "</table>\n",
       "</div>"
      ],
      "text/plain": [
       "     cc origin-asn    ip-cnt   ip-frac\n",
       "419  MX       8151  13736736  0.551574\n",
       "420  MX      13999   2046976  0.082193"
      ]
     },
     "metadata": {},
     "output_type": "display_data"
    }
   ],
   "source": [
    "for cc in ['UY', 'VE', 'CR', 'MX']:\n",
    "    cc_df = lacnic_addr_space[lacnic_addr_space['cc'] == cc]\n",
    "    total_country = cc_df.loc[cc_df['cc'] == cc]['ip-cnt'].sum()\n",
    "    cc_df['ip-frac'] = cc_df['ip-cnt'].values / float(total_country)\n",
    "    print(\"-----------\")\n",
    "    print(\"country's total: %s\" % total_country)\n",
    "    display(cc_df.head(2))"
   ]
  }
 ],
 "metadata": {
  "kernelspec": {
   "display_name": "latam-ixp-obs",
   "language": "python",
   "name": "latam-ixp-obs"
  },
  "language_info": {
   "codemirror_mode": {
    "name": "ipython",
    "version": 3
   },
   "file_extension": ".py",
   "mimetype": "text/x-python",
   "name": "python",
   "nbconvert_exporter": "python",
   "pygments_lexer": "ipython3",
   "version": "3.6.8"
  }
 },
 "nbformat": 4,
 "nbformat_minor": 2
}
