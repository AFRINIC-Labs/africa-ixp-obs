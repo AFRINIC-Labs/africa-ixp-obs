{
 "cells": [
  {
   "cell_type": "markdown",
   "metadata": {},
   "source": [
    "# 1. Imports"
   ]
  },
  {
   "cell_type": "code",
   "execution_count": 1,
   "metadata": {},
   "outputs": [],
   "source": [
    "import os\n",
    "import glob\n",
    "\n",
    "import numpy as np\n",
    "import pandas as pd\n",
    "from aggregate6 import aggregate"
   ]
  },
  {
   "cell_type": "markdown",
   "metadata": {},
   "source": [
    "# 2. Address space in LG dumps"
   ]
  },
  {
   "cell_type": "markdown",
   "metadata": {},
   "source": [
    "Brito _el at._ [1] observed that partial BGP dumps at LGs in Sao Paulo (sp) and Curitiba (pr) due to export filters. We would like to compare BGP table dumps from LG and RV in Sao Paulo. Major discrepancies would suggest that LG keeps applying export filters"
   ]
  },
  {
   "cell_type": "code",
   "execution_count": 2,
   "metadata": {},
   "outputs": [],
   "source": [
    "def prefix_addr_space(prefix):\n",
    "    \"\"\"\n",
    "    Compute prefix address space.\n",
    "\n",
    "    Get mask and then compute prefix addr space.\n",
    "    \"\"\"\n",
    "    mask = prefix.split('/')[-1]\n",
    "    return 2 ** (32 - int(mask))"
   ]
  },
  {
   "cell_type": "markdown",
   "metadata": {},
   "source": [
    "## 2.1 Originated address space by connected networks"
   ]
  },
  {
   "cell_type": "markdown",
   "metadata": {},
   "source": [
    "Originated address space by connected networks"
   ]
  },
  {
   "cell_type": "code",
   "execution_count": 3,
   "metadata": {},
   "outputs": [],
   "source": [
    "PATH_LG_DUMPS = '../../data/processed/lg-ribs/v4'\n",
    "ixp_bgp_dumps_dirs_a = np.array(glob.glob(PATH_LG_DUMPS + '/*'))"
   ]
  },
  {
   "cell_type": "code",
   "execution_count": 4,
   "metadata": {},
   "outputs": [],
   "source": [
    "output_list = []\n",
    "for dir_name in ixp_bgp_dumps_dirs_a:\n",
    "    # get LG name\n",
    "    ixp_name = dir_name.split('/')[-1]\n",
    "    # All LG BGP dumps from that LG\n",
    "    bgp_file_a = glob.glob(PATH_LG_DUMPS + '/' + ixp_name + '/*')\n",
    "    bgp_file_a = np.sort(bgp_file_a)\n",
    "    # Exclude non-LatAm IXPs from the analysis\n",
    "    if ixp_name in ('sp', 'pr'):\n",
    "        # Load BGP table dump\n",
    "        bgp_table_dump_df = pd.read_csv(\n",
    "            bgp_file_a[-2],\n",
    "            header='infer',\n",
    "            sep=','\n",
    "        )\n",
    "        # Remove NaN path if exists\n",
    "        bgp_table_dump_df = bgp_table_dump_df.loc[\n",
    "            bgp_table_dump_df['as-path'].notnull()\n",
    "        ]\n",
    "        # create set of announced prefixes\n",
    "        prefix_set = set()\n",
    "        # Loop\n",
    "        for index, row in bgp_table_dump_df.iterrows():\n",
    "            as_path_str = row['as-path']\n",
    "            prefix = row['prefix']\n",
    "            as_path_list = as_path_str.split(',')\n",
    "            # if AS-PATH contains more than one AS\n",
    "            # If not, the IXP member is directly annoucing \n",
    "            # its routes to the monitor\n",
    "            if len(as_path_list) == 1:\n",
    "                prefix_set.add(prefix)\n",
    "        # \n",
    "        aggregated_prefix_list = aggregate(list(prefix_set))\n",
    "        ip_cnt = 0\n",
    "        for prefix in aggregated_prefix_list:\n",
    "            network, mask = prefix.split('/')\n",
    "            # library aggregate6 has a bug and sometimes overaggregates some prefixes\n",
    "            if int(mask) > 8:\n",
    "                ip_cnt += prefix_addr_space(prefix)\n",
    "        # Append results (# of membs) for this IXP to a list\n",
    "        output_list.append((ixp_name, ip_cnt))"
   ]
  },
  {
   "cell_type": "code",
   "execution_count": 5,
   "metadata": {},
   "outputs": [],
   "source": [
    "members_addr_space_df = pd.DataFrame(\n",
    "    output_list,\n",
    "    columns=['iata_code', 'ip-cnt']\n",
    ")\n",
    "# sort values\n",
    "members_addr_space_df = members_addr_space_df.sort_values('ip-cnt', ascending = False)"
   ]
  },
  {
   "cell_type": "code",
   "execution_count": 6,
   "metadata": {},
   "outputs": [
    {
     "data": {
      "text/html": [
       "<div>\n",
       "<style scoped>\n",
       "    .dataframe tbody tr th:only-of-type {\n",
       "        vertical-align: middle;\n",
       "    }\n",
       "\n",
       "    .dataframe tbody tr th {\n",
       "        vertical-align: top;\n",
       "    }\n",
       "\n",
       "    .dataframe thead th {\n",
       "        text-align: right;\n",
       "    }\n",
       "</style>\n",
       "<table border=\"1\" class=\"dataframe\">\n",
       "  <thead>\n",
       "    <tr style=\"text-align: right;\">\n",
       "      <th></th>\n",
       "      <th>iata_code</th>\n",
       "      <th>ip-cnt</th>\n",
       "    </tr>\n",
       "  </thead>\n",
       "  <tbody>\n",
       "    <tr>\n",
       "      <th>1</th>\n",
       "      <td>sp</td>\n",
       "      <td>2550528</td>\n",
       "    </tr>\n",
       "    <tr>\n",
       "      <th>0</th>\n",
       "      <td>pr</td>\n",
       "      <td>13056</td>\n",
       "    </tr>\n",
       "  </tbody>\n",
       "</table>\n",
       "</div>"
      ],
      "text/plain": [
       "  iata_code   ip-cnt\n",
       "1        sp  2550528\n",
       "0        pr    13056"
      ]
     },
     "execution_count": 6,
     "metadata": {},
     "output_type": "execute_result"
    }
   ],
   "source": [
    "members_addr_space_df"
   ]
  },
  {
   "cell_type": "markdown",
   "metadata": {},
   "source": [
    "## 2.2 Announced address space"
   ]
  },
  {
   "cell_type": "markdown",
   "metadata": {},
   "source": [
    "Originated address space by connected networks + customer cones"
   ]
  },
  {
   "cell_type": "code",
   "execution_count": 7,
   "metadata": {},
   "outputs": [],
   "source": [
    "output_list = []\n",
    "for dir_name in ixp_bgp_dumps_dirs_a:\n",
    "    # get LG name\n",
    "    ixp_name = dir_name.split('/')[-1]\n",
    "    # All LG BGP dumps from that LG\n",
    "    bgp_file_a = glob.glob(PATH_LG_DUMPS + '/' + ixp_name + '/*')\n",
    "    bgp_file_a = np.sort(bgp_file_a)\n",
    "    # Exclude non-LatAm IXPs from the analysis\n",
    "    if ixp_name in ('sp', 'pr'):\n",
    "        # Load BGP table dump\n",
    "        bgp_table_dump_df = pd.read_csv(\n",
    "            bgp_file_a[-2],\n",
    "            header='infer',\n",
    "            sep=','\n",
    "        )\n",
    "        # Remove NaN path if exists\n",
    "        bgp_table_dump_df = bgp_table_dump_df.loc[\n",
    "            bgp_table_dump_df['as-path'].notnull()\n",
    "        ]\n",
    "        # create set of announced prefixes\n",
    "        prefix_set = set()\n",
    "        # Loop\n",
    "        for index, row in bgp_table_dump_df.iterrows():\n",
    "            as_path_str = row['as-path']\n",
    "            prefix = row['prefix']\n",
    "            as_path_list = as_path_str.split(',')\n",
    "            # if AS-PATH contains more than one AS\n",
    "            # If not, the IXP member is directly annoucing \n",
    "            # its routes to the monitor\n",
    "            if '6939' not in as_path_list:\n",
    "                prefix_set.add(prefix)\n",
    "        # \n",
    "        aggregated_prefix_list = aggregate(list(prefix_set))\n",
    "        ip_cnt = 0\n",
    "        for prefix in aggregated_prefix_list:\n",
    "            network, mask = prefix.split('/')\n",
    "            # library aggregate6 has a bug and sometimes overaggregates some prefixes\n",
    "            if int(mask) > 8:\n",
    "                ip_cnt += prefix_addr_space(prefix)\n",
    "        # Append results (# of membs) for this IXP to a list\n",
    "        output_list.append((ixp_name, ip_cnt))"
   ]
  },
  {
   "cell_type": "code",
   "execution_count": 8,
   "metadata": {},
   "outputs": [],
   "source": [
    "announced_addr_space_df = pd.DataFrame(\n",
    "    output_list,\n",
    "    columns=['iata_code', 'ip-cnt']\n",
    ")\n",
    "# sort values\n",
    "announced_addr_space_df = announced_addr_space_df.sort_values('ip-cnt', ascending = False)"
   ]
  },
  {
   "cell_type": "code",
   "execution_count": 9,
   "metadata": {},
   "outputs": [
    {
     "data": {
      "text/html": [
       "<div>\n",
       "<style scoped>\n",
       "    .dataframe tbody tr th:only-of-type {\n",
       "        vertical-align: middle;\n",
       "    }\n",
       "\n",
       "    .dataframe tbody tr th {\n",
       "        vertical-align: top;\n",
       "    }\n",
       "\n",
       "    .dataframe thead th {\n",
       "        text-align: right;\n",
       "    }\n",
       "</style>\n",
       "<table border=\"1\" class=\"dataframe\">\n",
       "  <thead>\n",
       "    <tr style=\"text-align: right;\">\n",
       "      <th></th>\n",
       "      <th>iata_code</th>\n",
       "      <th>ip-cnt</th>\n",
       "    </tr>\n",
       "  </thead>\n",
       "  <tbody>\n",
       "    <tr>\n",
       "      <th>1</th>\n",
       "      <td>sp</td>\n",
       "      <td>5439232</td>\n",
       "    </tr>\n",
       "    <tr>\n",
       "      <th>0</th>\n",
       "      <td>pr</td>\n",
       "      <td>13464</td>\n",
       "    </tr>\n",
       "  </tbody>\n",
       "</table>\n",
       "</div>"
      ],
      "text/plain": [
       "  iata_code   ip-cnt\n",
       "1        sp  5439232\n",
       "0        pr    13464"
      ]
     },
     "execution_count": 9,
     "metadata": {},
     "output_type": "execute_result"
    }
   ],
   "source": [
    "announced_addr_space_df"
   ]
  },
  {
   "cell_type": "markdown",
   "metadata": {},
   "source": [
    "# 3. Looking for differences in Google annoncements"
   ]
  },
  {
   "cell_type": "markdown",
   "metadata": {},
   "source": [
    "We look for prefixes announced by Google (AS15169) in both datasets (RV and LG). "
   ]
  },
  {
   "cell_type": "markdown",
   "metadata": {},
   "source": [
    "## 3.1 Sao Paulo's latest LG dump"
   ]
  },
  {
   "cell_type": "code",
   "execution_count": 10,
   "metadata": {},
   "outputs": [],
   "source": [
    "IXP_NAME = 'sp'\n",
    "PATH_LG_DUMPS = '../../data/processed/lg-ribs/v4'"
   ]
  },
  {
   "cell_type": "code",
   "execution_count": 11,
   "metadata": {},
   "outputs": [],
   "source": [
    "bgp_file_a = glob.glob(PATH_LG_DUMPS + '/' + IXP_NAME + '/' + '2019_07_*')[-1]"
   ]
  },
  {
   "cell_type": "code",
   "execution_count": 12,
   "metadata": {},
   "outputs": [
    {
     "data": {
      "text/html": [
       "<div>\n",
       "<style scoped>\n",
       "    .dataframe tbody tr th:only-of-type {\n",
       "        vertical-align: middle;\n",
       "    }\n",
       "\n",
       "    .dataframe tbody tr th {\n",
       "        vertical-align: top;\n",
       "    }\n",
       "\n",
       "    .dataframe thead th {\n",
       "        text-align: right;\n",
       "    }\n",
       "</style>\n",
       "<table border=\"1\" class=\"dataframe\">\n",
       "  <thead>\n",
       "    <tr style=\"text-align: right;\">\n",
       "      <th></th>\n",
       "      <th>prefix</th>\n",
       "      <th>as-path</th>\n",
       "    </tr>\n",
       "  </thead>\n",
       "  <tbody>\n",
       "    <tr>\n",
       "      <th>0</th>\n",
       "      <td>1.0.4.0/22</td>\n",
       "      <td>6939,4826,38803,56203</td>\n",
       "    </tr>\n",
       "    <tr>\n",
       "      <th>1</th>\n",
       "      <td>1.0.4.0/22</td>\n",
       "      <td>6939,38040,23969</td>\n",
       "    </tr>\n",
       "    <tr>\n",
       "      <th>2</th>\n",
       "      <td>1.0.4.0/22</td>\n",
       "      <td>6939,4651,23969</td>\n",
       "    </tr>\n",
       "    <tr>\n",
       "      <th>3</th>\n",
       "      <td>1.0.4.0/22</td>\n",
       "      <td>6939,4788</td>\n",
       "    </tr>\n",
       "    <tr>\n",
       "      <th>4</th>\n",
       "      <td>1.0.4.0/22</td>\n",
       "      <td>22548,23596</td>\n",
       "    </tr>\n",
       "  </tbody>\n",
       "</table>\n",
       "</div>"
      ],
      "text/plain": [
       "       prefix                as-path\n",
       "0  1.0.4.0/22  6939,4826,38803,56203\n",
       "1  1.0.4.0/22       6939,38040,23969\n",
       "2  1.0.4.0/22        6939,4651,23969\n",
       "3  1.0.4.0/22              6939,4788\n",
       "4  1.0.4.0/22            22548,23596"
      ]
     },
     "execution_count": 12,
     "metadata": {},
     "output_type": "execute_result"
    }
   ],
   "source": [
    "lg_dump_df = pd.read_csv(\n",
    "    bgp_file_a,\n",
    "    header='infer',\n",
    "    sep=','\n",
    ")\n",
    "lg_dump_df.head()"
   ]
  },
  {
   "cell_type": "markdown",
   "metadata": {},
   "source": [
    "## 3.2 Sao Paulo's latest RV dump"
   ]
  },
  {
   "cell_type": "code",
   "execution_count": 13,
   "metadata": {},
   "outputs": [],
   "source": [
    "IXP_NAME = 'saopaulo'\n",
    "PATH_RV_DUMPS = '../../data/processed/ribs/v4'"
   ]
  },
  {
   "cell_type": "code",
   "execution_count": 14,
   "metadata": {},
   "outputs": [],
   "source": [
    "bgp_file_a = glob.glob(PATH_RV_DUMPS + '/' + IXP_NAME + '/' + '2019_07_*')[-1]"
   ]
  },
  {
   "cell_type": "code",
   "execution_count": 15,
   "metadata": {},
   "outputs": [
    {
     "data": {
      "text/html": [
       "<div>\n",
       "<style scoped>\n",
       "    .dataframe tbody tr th:only-of-type {\n",
       "        vertical-align: middle;\n",
       "    }\n",
       "\n",
       "    .dataframe tbody tr th {\n",
       "        vertical-align: top;\n",
       "    }\n",
       "\n",
       "    .dataframe thead th {\n",
       "        text-align: right;\n",
       "    }\n",
       "</style>\n",
       "<table border=\"1\" class=\"dataframe\">\n",
       "  <thead>\n",
       "    <tr style=\"text-align: right;\">\n",
       "      <th></th>\n",
       "      <th>prefix</th>\n",
       "      <th>as-path</th>\n",
       "    </tr>\n",
       "  </thead>\n",
       "  <tbody>\n",
       "    <tr>\n",
       "      <th>0</th>\n",
       "      <td>1.0.4.0/22</td>\n",
       "      <td>6939,4826,38803,56203</td>\n",
       "    </tr>\n",
       "    <tr>\n",
       "      <th>1</th>\n",
       "      <td>1.0.4.0/22</td>\n",
       "      <td>6939,4826,38803,56203</td>\n",
       "    </tr>\n",
       "    <tr>\n",
       "      <th>2</th>\n",
       "      <td>1.0.4.0/22</td>\n",
       "      <td>6939,4826,38803,56203</td>\n",
       "    </tr>\n",
       "    <tr>\n",
       "      <th>3</th>\n",
       "      <td>1.0.4.0/24</td>\n",
       "      <td>6939,4826,38803,56203</td>\n",
       "    </tr>\n",
       "    <tr>\n",
       "      <th>4</th>\n",
       "      <td>1.0.4.0/24</td>\n",
       "      <td>6939,4826,38803,56203</td>\n",
       "    </tr>\n",
       "  </tbody>\n",
       "</table>\n",
       "</div>"
      ],
      "text/plain": [
       "       prefix                as-path\n",
       "0  1.0.4.0/22  6939,4826,38803,56203\n",
       "1  1.0.4.0/22  6939,4826,38803,56203\n",
       "2  1.0.4.0/22  6939,4826,38803,56203\n",
       "3  1.0.4.0/24  6939,4826,38803,56203\n",
       "4  1.0.4.0/24  6939,4826,38803,56203"
      ]
     },
     "execution_count": 15,
     "metadata": {},
     "output_type": "execute_result"
    }
   ],
   "source": [
    "rv_dump_df = pd.read_csv(\n",
    "    bgp_file_a,\n",
    "    header='infer',\n",
    "    sep=','\n",
    ")\n",
    "rv_dump_df.head()"
   ]
  },
  {
   "cell_type": "markdown",
   "metadata": {},
   "source": [
    "## 3.3 Compare entries"
   ]
  },
  {
   "cell_type": "code",
   "execution_count": 16,
   "metadata": {},
   "outputs": [
    {
     "name": "stdout",
     "output_type": "stream",
     "text": [
      "# of prefixes announced by Google visible in RV dataset: 498\n",
      "# of prefixes announced by Google visible in LG dataset: 32\n"
     ]
    }
   ],
   "source": [
    "google_rv = rv_dump_df.loc[\n",
    "    (rv_dump_df['as-path'].str.startswith('15169')) |\n",
    "    (rv_dump_df['as-path'] == '15169')\n",
    "]['prefix'].size\n",
    "google_lg = lg_dump_df.loc[\n",
    "    (lg_dump_df['as-path'].str.startswith('15169')) |\n",
    "    (lg_dump_df['as-path'] == '15169')\n",
    "]['prefix'].size\n",
    "print(\"# of prefixes announced by Google visible in RV dataset: %d\" % google_rv)\n",
    "print(\"# of prefixes announced by Google visible in LG dataset: %d\" % google_lg)"
   ]
  },
  {
   "cell_type": "markdown",
   "metadata": {},
   "source": [
    "# References\n",
    "\n",
    "[1] Brito, Samuel Henrique Bucke, et al. \"Dissecting the largest national ecosystem of public internet exchange points in brazil.\" _International Conference on Passive and Active Network Measurement_. Springer, Cham, 2016."
   ]
  }
 ],
 "metadata": {
  "kernelspec": {
   "display_name": "latam-ixp-obs",
   "language": "python",
   "name": "latam-ixp-obs"
  },
  "language_info": {
   "codemirror_mode": {
    "name": "ipython",
    "version": 3
   },
   "file_extension": ".py",
   "mimetype": "text/x-python",
   "name": "python",
   "nbconvert_exporter": "python",
   "pygments_lexer": "ipython3",
   "version": "3.6.8"
  }
 },
 "nbformat": 4,
 "nbformat_minor": 2
}
