{
 "cells": [
  {
   "cell_type": "markdown",
   "metadata": {},
   "source": [
    "# 1. Imports"
   ]
  },
  {
   "cell_type": "code",
   "execution_count": 1,
   "metadata": {},
   "outputs": [],
   "source": [
    "import os\n",
    "import glob\n",
    "from datetime import timedelta, date\n",
    "\n",
    "import numpy as np\n",
    "import pandas as pd\n",
    "import matplotlib.pyplot as pl\n",
    "%matplotlib inline\n",
    "import itertools\n",
    "import powerlaw"
   ]
  },
  {
   "cell_type": "markdown",
   "metadata": {},
   "source": [
    "# 2. Functions"
   ]
  },
  {
   "cell_type": "markdown",
   "metadata": {},
   "source": [
    "## 2.1 Define epoch function"
   ]
  },
  {
   "cell_type": "code",
   "execution_count": 2,
   "metadata": {},
   "outputs": [],
   "source": [
    "def datime2epoch(dt):\n",
    "    \"\"\"\n",
    "    Thi is an example script.\n",
    "\n",
    "    It seems that it has to have THIS docstring with a summary line, a blank line\n",
    "    and sume more text like here. Wow.\n",
    "    \"\"\"\n",
    "    # cast dt into string in case it isn't \n",
    "    dt = str(dt)\n",
    "    if dt != 'summary':\n",
    "        if str(dt) != 'nan':\n",
    "            if '_' in dt:\n",
    "                YYYY, mm, dd = dt.split('_')\n",
    "            else:\n",
    "                YYYY = dt[0:4]\n",
    "                mm = dt[4:6]\n",
    "                dd = dt[6:8]\n",
    "            return (\n",
    "                date(\n",
    "                    int(YYYY),\n",
    "                    int(mm),\n",
    "                    int(dd)\n",
    "                ) - date(1970 ,1, 1)\n",
    "            ).total_seconds()\n",
    "        else:\n",
    "            return -1\n",
    "    else:\n",
    "        return -1"
   ]
  },
  {
   "cell_type": "markdown",
   "metadata": {},
   "source": [
    "# 3. Get AS node degree of connected networks"
   ]
  },
  {
   "cell_type": "markdown",
   "metadata": {},
   "source": [
    "## 3.1 Compute AS node degree "
   ]
  },
  {
   "cell_type": "code",
   "execution_count": 3,
   "metadata": {},
   "outputs": [],
   "source": [
    "def get_members_neighbors(bgp_table_dump_df, ixp_asn):\n",
    "    \"\"\"\n",
    "    Thi is an example script.\n",
    "\n",
    "    It seems that it has to have THIS docstring with a summary line, a blank line\n",
    "    and sume more text like here. Wow.\n",
    "    \"\"\"\n",
    "    # create dict of IXP members\n",
    "    members_degree_dict = {}\n",
    "    # Loop\n",
    "    for as_path_str in bgp_table_dump_df.drop_duplicates(\n",
    "        'as-path')['as-path'].values:\n",
    "        as_path_list = as_path_str.split(',')\n",
    "        # if AS-PATH contains more than one AS\n",
    "        # If not, the IXP member is directly annoucing \n",
    "        # its routes to the monitor\n",
    "        if len(as_path_list) > 1:\n",
    "            # Removes path through HE (AS6939 from the path)\n",
    "            if int(as_path_list[0]) != 6939 and int(as_path_list[1]) != 6939:\n",
    "            # Checks if the route server is the once announcing the path\n",
    "            # If so, remove IXP ASN from path\n",
    "            # If not, it is direct member\n",
    "                add_flag = False\n",
    "                if (ixp_asn is None) and len(as_path_list) >= 2:\n",
    "                    member_as = as_path_list[0]\n",
    "                    neighbor_as = as_path_list[1]\n",
    "                    add_flag = True\n",
    "                elif len(as_path_list) >= 3:\n",
    "                    member_as = as_path_list[1]\n",
    "                    neighbor_as = as_path_list[2]\n",
    "                    add_flag = True\n",
    "                else:\n",
    "                    pass\n",
    "                if add_flag:\n",
    "                    if member_as not in members_degree_dict.keys():\n",
    "                        members_degree_dict[member_as] = set()\n",
    "                    members_degree_dict[member_as].add(neighbor_as)\n",
    "    return members_degree_dict"
   ]
  },
  {
   "cell_type": "code",
   "execution_count": 4,
   "metadata": {},
   "outputs": [],
   "source": [
    "ixp_under_analysis_list = [\n",
    "    # Frankfurt (DE-CIX)\n",
    "    'fra',\n",
    "    # Paris (Frace-IX)\n",
    "    'cdg',\n",
    "    # Bangkok (BNKIX)\n",
    "    'bkk',\n",
    "    # Johanesburg (JINX)\n",
    "    'jnb',\n",
    "    # IX.br Sao Paulo\n",
    "    'saopaulo',\n",
    "    # CABASE-BUE\n",
    "    'eze',\n",
    "    # PIT Chile\n",
    "    'scl'\n",
    "]"
   ]
  },
  {
   "cell_type": "code",
   "execution_count": 5,
   "metadata": {},
   "outputs": [],
   "source": [
    "ixp_asn_dict = {\n",
    "    'eze': 11058,\n",
    "    'scl': 61522,\n",
    "    # We do not care about this now\n",
    "    'fra': None,\n",
    "    # We do not care about this now\n",
    "    'cdg': None,\n",
    "    # We do not care about this now\n",
    "    'bkk': None,\n",
    "    # We do not care about this now\n",
    "    'jnb': None,\n",
    "    # We do not care about this now\n",
    "    'saopaulo': None,\n",
    "}"
   ]
  },
  {
   "cell_type": "code",
   "execution_count": 6,
   "metadata": {},
   "outputs": [],
   "source": [
    "PATH_TO_BGP_DUMPS = '../../data/processed/ribs/v4'"
   ]
  },
  {
   "cell_type": "markdown",
   "metadata": {},
   "source": [
    "**MAIN BLOCK OF THIS NOTEBOOK**"
   ]
  },
  {
   "cell_type": "code",
   "execution_count": 7,
   "metadata": {
    "scrolled": false
   },
   "outputs": [],
   "source": [
    "ixp_members_degree_dict = {}\n",
    "for ixp in ixp_under_analysis_list:\n",
    "    ixp_members_degree_dict[ixp] = {}\n",
    "    # get all BGP table dumps\n",
    "    ixp_bgp_table_dump_files_a = np.array(glob.glob(PATH_TO_BGP_DUMPS + '/' + ixp + '/*'))\n",
    "    # sort BGP table dumps by ASCENDING DATE\n",
    "    ixp_bgp_table_dump_files_a = np.sort(ixp_bgp_table_dump_files_a)\n",
    "    # Just look at the latest month\n",
    "    bgp_table_dump_df = pd.read_csv(\n",
    "        ixp_bgp_table_dump_files_a[-1],\n",
    "        header='infer',\n",
    "        sep=','\n",
    "    )\n",
    "    # Remove NaN path if exists\n",
    "    bgp_table_dump_df = bgp_table_dump_df.loc[\n",
    "        bgp_table_dump_df['as-path'].notnull()\n",
    "    ]\n",
    "    # find visible ASes from BGP table dump\n",
    "    members_neighbors_dict = get_members_neighbors(bgp_table_dump_df, ixp_asn_dict[ixp])\n",
    "    for asn in members_neighbors_dict.keys():\n",
    "        ixp_members_degree_dict[ixp][asn] = len(list(members_neighbors_dict[asn]))"
   ]
  },
  {
   "cell_type": "markdown",
   "metadata": {},
   "source": [
    "## 3.2 Output results"
   ]
  },
  {
   "cell_type": "markdown",
   "metadata": {},
   "source": [
    "### 3.2.1 TOP3: AS node degree by IXP"
   ]
  },
  {
   "cell_type": "code",
   "execution_count": 8,
   "metadata": {},
   "outputs": [
    {
     "name": "stdout",
     "output_type": "stream",
     "text": [
      "fra [ 823 1487 1825]\n",
      "cdg [641 728 815]\n",
      "bkk [22 30 49]\n",
      "jnb [ 59 113 161]\n",
      "sao [148 157 484]\n",
      "eze [49 81 86]\n",
      "scl [18 21 48]\n"
     ]
    }
   ],
   "source": [
    "for ixp in ixp_under_analysis_list:\n",
    "    vals = np.array(list(ixp_members_degree_dict[ixp].values()))\n",
    "    vals = np.sort(vals)\n",
    "    print(ixp[:3], vals[-3:])"
   ]
  },
  {
   "cell_type": "markdown",
   "metadata": {},
   "source": [
    "### 3.2.2 AS node degree percentile by IXP"
   ]
  },
  {
   "cell_type": "code",
   "execution_count": 9,
   "metadata": {},
   "outputs": [
    {
     "data": {
      "text/html": [
       "<div>\n",
       "<style scoped>\n",
       "    .dataframe tbody tr th:only-of-type {\n",
       "        vertical-align: middle;\n",
       "    }\n",
       "\n",
       "    .dataframe tbody tr th {\n",
       "        vertical-align: top;\n",
       "    }\n",
       "\n",
       "    .dataframe thead th {\n",
       "        text-align: right;\n",
       "    }\n",
       "</style>\n",
       "<table border=\"1\" class=\"dataframe\">\n",
       "  <thead>\n",
       "    <tr style=\"text-align: right;\">\n",
       "      <th></th>\n",
       "      <th>ixp</th>\n",
       "      <th>min</th>\n",
       "      <th>Q1</th>\n",
       "      <th>Q2</th>\n",
       "      <th>Q3</th>\n",
       "      <th>max</th>\n",
       "    </tr>\n",
       "  </thead>\n",
       "  <tbody>\n",
       "    <tr>\n",
       "      <th>0</th>\n",
       "      <td>fra</td>\n",
       "      <td>1</td>\n",
       "      <td>2</td>\n",
       "      <td>9</td>\n",
       "      <td>34</td>\n",
       "      <td>1825</td>\n",
       "    </tr>\n",
       "    <tr>\n",
       "      <th>1</th>\n",
       "      <td>cdg</td>\n",
       "      <td>1</td>\n",
       "      <td>1</td>\n",
       "      <td>3</td>\n",
       "      <td>10</td>\n",
       "      <td>815</td>\n",
       "    </tr>\n",
       "    <tr>\n",
       "      <th>2</th>\n",
       "      <td>bkk</td>\n",
       "      <td>1</td>\n",
       "      <td>1</td>\n",
       "      <td>4</td>\n",
       "      <td>9</td>\n",
       "      <td>49</td>\n",
       "    </tr>\n",
       "    <tr>\n",
       "      <th>3</th>\n",
       "      <td>jnb</td>\n",
       "      <td>1</td>\n",
       "      <td>2</td>\n",
       "      <td>4</td>\n",
       "      <td>15</td>\n",
       "      <td>161</td>\n",
       "    </tr>\n",
       "    <tr>\n",
       "      <th>4</th>\n",
       "      <td>sao</td>\n",
       "      <td>1</td>\n",
       "      <td>1</td>\n",
       "      <td>3</td>\n",
       "      <td>8</td>\n",
       "      <td>484</td>\n",
       "    </tr>\n",
       "    <tr>\n",
       "      <th>5</th>\n",
       "      <td>eze</td>\n",
       "      <td>1</td>\n",
       "      <td>1</td>\n",
       "      <td>2</td>\n",
       "      <td>9</td>\n",
       "      <td>86</td>\n",
       "    </tr>\n",
       "    <tr>\n",
       "      <th>6</th>\n",
       "      <td>scl</td>\n",
       "      <td>1</td>\n",
       "      <td>1</td>\n",
       "      <td>1</td>\n",
       "      <td>5</td>\n",
       "      <td>48</td>\n",
       "    </tr>\n",
       "  </tbody>\n",
       "</table>\n",
       "</div>"
      ],
      "text/plain": [
       "   ixp min Q1 Q2  Q3   max\n",
       "0  fra   1  2  9  34  1825\n",
       "1  cdg   1  1  3  10   815\n",
       "2  bkk   1  1  4   9    49\n",
       "3  jnb   1  2  4  15   161\n",
       "4  sao   1  1  3   8   484\n",
       "5  eze   1  1  2   9    86\n",
       "6  scl   1  1  1   5    48"
      ]
     },
     "execution_count": 9,
     "metadata": {},
     "output_type": "execute_result"
    }
   ],
   "source": [
    "output_list = []\n",
    "for ixp in ixp_under_analysis_list:\n",
    "    vals = np.array(list(ixp_members_degree_dict[ixp].values()))\n",
    "    q_a = np.percentile(vals, np.arange(0, 101, 25), interpolation='lower')\n",
    "    output_list.append(np.hstack(np.array(([ixp[:3],], q_a))))\n",
    "\n",
    "pd.DataFrame(\n",
    "    output_list,\n",
    "    columns=['ixp','min','Q1',\n",
    "             'Q2','Q3','max']\n",
    ")"
   ]
  },
  {
   "cell_type": "markdown",
   "metadata": {},
   "source": [
    "### 3.2.3 fit power-law distribution to AS node degree"
   ]
  },
  {
   "cell_type": "code",
   "execution_count": 10,
   "metadata": {},
   "outputs": [
    {
     "name": "stderr",
     "output_type": "stream",
     "text": [
      "Calculating best minimal value for power law fit\n",
      "/home/carisimo/latam-ixp-obs/latam-ixp-obs/lib/python3.6/site-packages/powerlaw.py:700: RuntimeWarning: invalid value encountered in true_divide\n",
      "  (Theoretical_CDF * (1 - Theoretical_CDF))\n"
     ]
    },
    {
     "name": "stdout",
     "output_type": "stream",
     "text": [
      "fra\t2.17\t50.00\t0.79\n",
      "cdg\t1.83\t13.00\t0.83\n",
      "bkk\t1.62\t1.00\t0.61\n",
      "jnb\t2.11\t9.00\t0.71\n",
      "sao\t2.35\t16.00\t0.77\n",
      "eze\t1.77\t1.00\t0.13\n",
      "scl\t1.98\t1.00\t0.13\n"
     ]
    },
    {
     "name": "stderr",
     "output_type": "stream",
     "text": [
      "/home/carisimo/latam-ixp-obs/latam-ixp-obs/lib/python3.6/site-packages/powerlaw.py:700: RuntimeWarning: invalid value encountered in true_divide\n",
      "  (Theoretical_CDF * (1 - Theoretical_CDF))\n",
      "Calculating best minimal value for power law fit\n",
      "Calculating best minimal value for power law fit\n",
      "Calculating best minimal value for power law fit\n",
      "Calculating best minimal value for power law fit\n",
      "Calculating best minimal value for power law fit\n",
      "Calculating best minimal value for power law fit\n"
     ]
    }
   ],
   "source": [
    "for ixp in ixp_under_analysis_list:\n",
    "    vals = np.array(list(ixp_members_degree_dict[ixp].values()))\n",
    "    results = powerlaw.Fit(vals)\n",
    "    R, p = results.distribution_compare('power_law', 'lognormal_positive')\n",
    "    print(\"%s\\t%.2f\\t%.2f\\t%.2f\" % (ixp[:3], results.power_law.alpha, results.power_law.xmin, p))"
   ]
  },
  {
   "cell_type": "markdown",
   "metadata": {},
   "source": [
    "## 3.3 Plot results"
   ]
  },
  {
   "cell_type": "code",
   "execution_count": 11,
   "metadata": {},
   "outputs": [],
   "source": [
    "label_dict = {\n",
    "    'scl': 'PIT Chile-SCL',\n",
    "    'eze': 'CABASE-BUE',\n",
    "    'asu': 'IX.py',\n",
    "    'saopaulo': 'IX.br',\n",
    "    'fra': 'DE-CIX-fra',\n",
    "    'cdg': 'France-IX-Paris',\n",
    "    'jnb': 'JINX',\n",
    "    'bkk': 'BKNIX',\n",
    "}"
   ]
  },
  {
   "cell_type": "code",
   "execution_count": 12,
   "metadata": {},
   "outputs": [],
   "source": [
    "def gen_cdf(ax, x, label_str, mkr):\n",
    "    \"\"\"\n",
    "    Thi is an example script.\n",
    "\n",
    "    It seems that it has to have THIS docstring with a summary line, a blank line\n",
    "    and sume more text like here. Wow.\n",
    "    \"\"\"\n",
    "    # Overlay a reversed cumulative histogram.\n",
    "    bins = np.logspace(np.log10(x.min()), np.log10(x.max()), np.ceil(np.sqrt(x.size / 2)) + 0)\n",
    "    widths = (bins[1:] - bins[:-1])\n",
    "    # Calculate histogram\n",
    "    hist = np.histogram(x, bins=bins)\n",
    "    # normalize by bin width\n",
    "    hist_norm = hist[0] / widths\n",
    "    # plot it!\n",
    "    ax.plot(\n",
    "        (bins[1:] + bins[:-1]) / 2.0,\n",
    "        hist_norm,\n",
    "        marker = mkr,\n",
    "        label=label_str,\n",
    "        alpha=0.5,\n",
    "        linewidth=3\n",
    "    )\n"
   ]
  },
  {
   "cell_type": "code",
   "execution_count": 13,
   "metadata": {},
   "outputs": [
    {
     "data": {
      "image/png": "[encoded data removed]",
      "text/plain": [
       "<Figure size 720x288 with 1 Axes>"
      ]
     },
     "metadata": {
      "needs_background": "light"
     },
     "output_type": "display_data"
    }
   ],
   "source": [
    "marker_iter = itertools.cycle(('d', 'o', '*')) \n",
    "fig, ax1 = pl.subplots(1, figsize=(10, 4))\n",
    "ax1.yaxis.grid(True, linestyle='-', color='#bababa', which='both', alpha=0.5)\n",
    "ax1.xaxis.grid(True, linestyle='-', color='#bababa', which='both', alpha=0.5)\n",
    "# plot frac for each AS\n",
    "for ixp in ixp_under_analysis_list:\n",
    "    gen_cdf(ax1, np.array(list(ixp_members_degree_dict[ixp].values())),\n",
    "            label_dict[ixp], next(marker_iter))\n",
    "\n",
    "ax1.tick_params(labelsize=20)\n",
    "\n",
    "\n",
    "ax1.set_xscale('log')\n",
    "ax1.set_yscale('log')\n",
    "\n",
    "ax1.legend(loc='upper right', ncol=3, frameon=True, fontsize=14)\n",
    "fig.subplots_adjust(hspace=0)\n",
    "fig.tight_layout()\n",
    "fig.savefig('../../figures/5_as_node_degree.pdf')"
   ]
  }
 ],
 "metadata": {
  "kernelspec": {
   "display_name": "latam-ixp-obs",
   "language": "python",
   "name": "latam-ixp-obs"
  },
  "language_info": {
   "codemirror_mode": {
    "name": "ipython",
    "version": 3
   },
   "file_extension": ".py",
   "mimetype": "text/x-python",
   "name": "python",
   "nbconvert_exporter": "python",
   "pygments_lexer": "ipython3",
   "version": "3.6.8"
  }
 },
 "nbformat": 4,
 "nbformat_minor": 2
}
