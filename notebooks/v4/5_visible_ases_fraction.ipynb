{
 "cells": [
  {
   "cell_type": "markdown",
   "metadata": {},
   "source": [
    "# 1. Imports"
   ]
  },
  {
   "cell_type": "code",
   "execution_count": 1,
   "metadata": {},
   "outputs": [],
   "source": [
    "import os\n",
    "import glob\n",
    "import numpy as np\n",
    "import pandas as pd\n",
    "from datetime import timedelta, date\n",
    "import matplotlib.pyplot as pl\n",
    "%matplotlib inline\n",
    "import itertools"
   ]
  },
  {
   "cell_type": "markdown",
   "metadata": {},
   "source": [
    "# 2. Functions"
   ]
  },
  {
   "cell_type": "markdown",
   "metadata": {},
   "source": [
    "## 2.1 Define epoch function"
   ]
  },
  {
   "cell_type": "code",
   "execution_count": 2,
   "metadata": {},
   "outputs": [],
   "source": [
    "def datime2epoch(dt):\n",
    "    \"\"\"\n",
    "    Thi is an example script.\n",
    "\n",
    "    It seems that it has to have THIS docstring with a summary line, a blank line\n",
    "    and sume more text like here. Wow.\n",
    "    \"\"\"\n",
    "    # cast dt into string in case it isn't \n",
    "    dt = str(dt)\n",
    "    if dt != 'summary':\n",
    "        if str(dt) != 'nan':\n",
    "            if '_' in dt:\n",
    "                YYYY, mm, dd = dt.split('_')\n",
    "            else:\n",
    "                YYYY = dt[0:4]\n",
    "                mm = dt[4:6]\n",
    "                dd = dt[6:8]\n",
    "            return (\n",
    "                date(\n",
    "                    int(YYYY),\n",
    "                    int(mm),\n",
    "                    int(dd)\n",
    "                ) - date(1970 ,1, 1)\n",
    "            ).total_seconds()\n",
    "        else:\n",
    "            return -1\n",
    "    else:\n",
    "        return -1"
   ]
  },
  {
   "cell_type": "markdown",
   "metadata": {},
   "source": [
    "## 2.2 Get latest delegation file"
   ]
  },
  {
   "cell_type": "code",
   "execution_count": 3,
   "metadata": {},
   "outputs": [],
   "source": [
    "def get_latest_delegation_file(\n",
    "    rir, path_to_files = '../../data/processed/delegation_files/%s/asns'):\n",
    "    path_to_rir_delegation_files = path_to_files % rir\n",
    "    delegation_file_a = np.array(glob.glob(path_to_rir_delegation_files + '/*'))\n",
    "    delegation_file_a = np.sort(delegation_file_a)\n",
    "    return delegation_file_a[-1]"
   ]
  },
  {
   "cell_type": "markdown",
   "metadata": {},
   "source": [
    "# 3. Load delegation files"
   ]
  },
  {
   "cell_type": "markdown",
   "metadata": {},
   "source": [
    "## 3.1 Load LACNIC data"
   ]
  },
  {
   "cell_type": "code",
   "execution_count": 4,
   "metadata": {},
   "outputs": [],
   "source": [
    "lacnic_latest_df = pd.read_csv(\n",
    "    get_latest_delegation_file('lacnic'),\n",
    "    names=[\n",
    "        'rir',\n",
    "        'cc',\n",
    "        'resource',\n",
    "        'asn',\n",
    "        'void',\n",
    "        'allocation_date',\n",
    "        'status',\n",
    "        'hash'\n",
    "    ],\n",
    "    sep='|'\n",
    ")"
   ]
  },
  {
   "cell_type": "code",
   "execution_count": 5,
   "metadata": {},
   "outputs": [],
   "source": [
    "# sort values\n",
    "lacnic_latest_df = lacnic_latest_df.sort_values('allocation_date', ascending=True)\n",
    "# Remove rows that do not contains ASNs\n",
    "lacnic_latest_df = lacnic_latest_df.loc[\n",
    "    lacnic_latest_df['asn'] != '*'\n",
    "]\n",
    "# Adds epoch column\n",
    "lacnic_latest_df['epoch'] = lacnic_latest_df['allocation_date'].apply(datime2epoch)\n",
    "# cast ASN to int to then use with BGP table dump data frame\n",
    "lacnic_latest_df['asn'] = lacnic_latest_df['asn'].values.astype(int)"
   ]
  },
  {
   "cell_type": "markdown",
   "metadata": {},
   "source": [
    "## 3.2 Load RIPE data"
   ]
  },
  {
   "cell_type": "code",
   "execution_count": 6,
   "metadata": {},
   "outputs": [],
   "source": [
    "ripe_latest_df = pd.read_csv(\n",
    "    get_latest_delegation_file('ripe'),\n",
    "    names=[\n",
    "        'rir',\n",
    "        'cc',\n",
    "        'resource',\n",
    "        'asn',\n",
    "        'void',\n",
    "        'allocation_date',\n",
    "        'status',\n",
    "        'hash'\n",
    "    ],\n",
    "    sep='|'\n",
    ")"
   ]
  },
  {
   "cell_type": "code",
   "execution_count": 7,
   "metadata": {},
   "outputs": [],
   "source": [
    "# sort values\n",
    "ripe_latest_df = ripe_latest_df.sort_values('allocation_date', ascending=True)\n",
    "# Remove rows that do not contains ASNs\n",
    "ripe_latest_df = ripe_latest_df.loc[\n",
    "    ripe_latest_df['asn'] != '*'\n",
    "]\n",
    "# Adds epoch column\n",
    "ripe_latest_df['epoch'] = ripe_latest_df['allocation_date'].apply(datime2epoch)\n",
    "# cast ASN to int to then use with BGP table dump data frame\n",
    "ripe_latest_df['asn'] = ripe_latest_df['asn'].values.astype(int)"
   ]
  },
  {
   "cell_type": "markdown",
   "metadata": {},
   "source": [
    "## 3.3 Load APNIC data"
   ]
  },
  {
   "cell_type": "code",
   "execution_count": 8,
   "metadata": {},
   "outputs": [],
   "source": [
    "apnic_latest_df = pd.read_csv(\n",
    "    get_latest_delegation_file('apnic'),\n",
    "    names=[\n",
    "        'rir',\n",
    "        'cc',\n",
    "        'resource',\n",
    "        'asn',\n",
    "        'void',\n",
    "        'allocation_date',\n",
    "        'status',\n",
    "        'hash'\n",
    "    ],\n",
    "    sep='|'\n",
    ")"
   ]
  },
  {
   "cell_type": "code",
   "execution_count": 9,
   "metadata": {},
   "outputs": [],
   "source": [
    "# sort values\n",
    "apnic_latest_df = apnic_latest_df.sort_values('allocation_date', ascending=True)\n",
    "# Remove rows that do not contains ASNs\n",
    "apnic_latest_df = apnic_latest_df.loc[\n",
    "    apnic_latest_df['asn'] != '*'\n",
    "]\n",
    "# Adds epoch column\n",
    "apnic_latest_df['epoch'] = apnic_latest_df['allocation_date'].apply(datime2epoch)\n",
    "# cast ASN to int to then use with BGP table dump data frame\n",
    "apnic_latest_df['asn'] = apnic_latest_df['asn'].values.astype(int)"
   ]
  },
  {
   "cell_type": "markdown",
   "metadata": {},
   "source": [
    "## 3.4 Load AFRINIC data"
   ]
  },
  {
   "cell_type": "code",
   "execution_count": 10,
   "metadata": {},
   "outputs": [],
   "source": [
    "afrinic_latest_df = pd.read_csv(\n",
    "    get_latest_delegation_file('afrinic'),\n",
    "    names=[\n",
    "        'rir',\n",
    "        'cc',\n",
    "        'resource',\n",
    "        'asn',\n",
    "        'void',\n",
    "        'allocation_date',\n",
    "        'status',\n",
    "        'hash'\n",
    "    ],\n",
    "    sep='|'\n",
    ")"
   ]
  },
  {
   "cell_type": "code",
   "execution_count": 11,
   "metadata": {},
   "outputs": [],
   "source": [
    "# sort values\n",
    "afrinic_latest_df = afrinic_latest_df.sort_values('allocation_date', ascending=True)\n",
    "# Remove rows that do not contains ASNs\n",
    "afrinic_latest_df = afrinic_latest_df.loc[\n",
    "    afrinic_latest_df['asn'] != '*'\n",
    "]\n",
    "# Adds epoch column\n",
    "afrinic_latest_df['epoch'] = afrinic_latest_df['allocation_date'].apply(datime2epoch)\n",
    "# cast ASN to int to then use with BGP table dump data frame\n",
    "afrinic_latest_df['asn'] = afrinic_latest_df['asn'].values.astype(int)"
   ]
  },
  {
   "cell_type": "markdown",
   "metadata": {},
   "source": [
    "## 3.5 Turn into a dictt"
   ]
  },
  {
   "cell_type": "code",
   "execution_count": 12,
   "metadata": {},
   "outputs": [],
   "source": [
    "rir_latest_dict = {\n",
    "    'lacnic': lacnic_latest_df,\n",
    "    'apnic': apnic_latest_df,\n",
    "    'ripe': ripe_latest_df,\n",
    "    'afrinic': afrinic_latest_df,\n",
    "}"
   ]
  },
  {
   "cell_type": "markdown",
   "metadata": {},
   "source": [
    "# 4. Get month-to-month active ASes from CAIDA's AS-REL files"
   ]
  },
  {
   "cell_type": "code",
   "execution_count": 13,
   "metadata": {},
   "outputs": [],
   "source": [
    "path_to_asrel_files = '../../data/raw/asrel'\n",
    "asrel_file_a = np.array(glob.glob(path_to_asrel_files + '/*'))\n",
    "asrel_file_a = np.sort(asrel_file_a)"
   ]
  },
  {
   "cell_type": "code",
   "execution_count": 14,
   "metadata": {},
   "outputs": [
    {
     "name": "stdout",
     "output_type": "stream",
     "text": [
      "No data available for 20140101\n",
      "No data available for 20140201\n",
      "No data available for 20140301\n",
      "No data available for 20140501\n",
      "No data available for 20150301\n",
      "No data available for 20150401\n"
     ]
    }
   ],
   "source": [
    "active_ases_dict={}\n",
    "for file_name in asrel_file_a:\n",
    "    # get date\n",
    "    date_str = str(file_name.split('/')[-1].split('.')[0])\n",
    "    # open AS-REL file\n",
    "    try:\n",
    "        p2c_df = pd.read_csv(\n",
    "            file_name,\n",
    "            comment='#',\n",
    "            header=None,\n",
    "            sep='|',\n",
    "            compression='bz2'\n",
    "        )\n",
    "        # set column names\n",
    "        p2c_df.columns = ['provider', 'customer', 'type']\n",
    "        active_ases_dict[date_str] = list(\n",
    "            set().union(\n",
    "                p2c_df['provider'].values.tolist(),\n",
    "                p2c_df['customer'].values.tolist()\n",
    "            )\n",
    "        )\n",
    "    except:\n",
    "        print('No data available for %s' % date_str)"
   ]
  },
  {
   "cell_type": "markdown",
   "metadata": {},
   "source": [
    "# 5. Get visible ASes from RIBs"
   ]
  },
  {
   "cell_type": "code",
   "execution_count": 15,
   "metadata": {},
   "outputs": [],
   "source": [
    "def get_visible_ases(bgp_table_dump_df, ixp_asn):\n",
    "    \"\"\"\n",
    "    Thi is an example script.\n",
    "\n",
    "    It seems that it has to have THIS docstring with a summary line, a blank line\n",
    "    and sume more text like here. Wow.\n",
    "    \"\"\"\n",
    "    # create set of IXP members\n",
    "    members_set = set()\n",
    "    # Loop\n",
    "    for as_path_str in bgp_table_dump_df.drop_duplicates(\n",
    "        'as-path')['as-path'].values:\n",
    "        as_path_list = as_path_str.split(',')\n",
    "        # if AS-PATH contains more than one AS\n",
    "        # If not, the IXP member is directly annoucing \n",
    "        # its routes to the monitor\n",
    "        if len(as_path_list) > 1:\n",
    "            # Removes path through HE (AS6939 from the path)\n",
    "            if int(as_path_list[0]) != 6939 and int(as_path_list[1]) != 6939:\n",
    "            # Checks if the route server is the once announcing the path\n",
    "            # If so, remove IXP ASN from path\n",
    "            # If not, it is direct member\n",
    "                if int(as_path_list[0]) == ixp_asn:\n",
    "                    init_val = 1\n",
    "                else:\n",
    "                    init_val = 0\n",
    "                for i in range(1, len(as_path_list)):\n",
    "                        members_set.add(int(as_path_list[i]))\n",
    "        else:\n",
    "            members_set.add(int(as_path_str))\n",
    "    return members_set"
   ]
  },
  {
   "cell_type": "code",
   "execution_count": null,
   "metadata": {},
   "outputs": [],
   "source": []
  },
  {
   "cell_type": "code",
   "execution_count": 16,
   "metadata": {},
   "outputs": [],
   "source": [
    "ixp_under_analysis_list = [\n",
    "    # Frankfurt (DE-CIX)\n",
    "    'fra',\n",
    "    # Paris (Frace-IX)\n",
    "    'cdg',\n",
    "    # Bangkok (BNKIX)\n",
    "    'bkk',\n",
    "    # Johanesburg (JINX)\n",
    "    'jnb',\n",
    "    # IX.br Sao Paulo\n",
    "    'saopaulo',\n",
    "    # CABASE-BUE\n",
    "    'eze',\n",
    "    # PIT Chile\n",
    "    'scl'\n",
    "]"
   ]
  },
  {
   "cell_type": "code",
   "execution_count": 17,
   "metadata": {},
   "outputs": [],
   "source": [
    "ixp_rir_dict = {\n",
    "    # Frankfurt (DE-CIX)\n",
    "    'fra': 'ripe',\n",
    "    # Paris (Frace-IX)\n",
    "    'cdg': 'ripe',\n",
    "    # Bangkok (BNKIX)\n",
    "    'bkk': 'apnic',\n",
    "    # Johanesburg (JINX)\n",
    "    'jnb': 'afrinic',\n",
    "    # IX.br Sao Paulo\n",
    "    'saopaulo': 'lacnic',\n",
    "    # CABASE-BUE\n",
    "    'eze': 'lacnic',\n",
    "    # PIT Chile\n",
    "    'scl': 'lacnic'\n",
    "}"
   ]
  },
  {
   "cell_type": "code",
   "execution_count": 18,
   "metadata": {},
   "outputs": [],
   "source": [
    "ixp_cc_dict = {\n",
    "    # Frankfurt (DE-CIX)\n",
    "    'fra': 'DE',\n",
    "    # Paris (Frace-IX)\n",
    "    'cdg': 'FR',\n",
    "    # Bangkok (BNKIX)\n",
    "    'bkk': 'TH',\n",
    "    # Johanesburg (JINX)\n",
    "    'jnb': 'ZA',\n",
    "    # IX.br Sao Paulo\n",
    "    'saopaulo': 'BR',\n",
    "    # CABASE-BUE\n",
    "    'eze': 'AR',\n",
    "    # PIT Chile\n",
    "    'scl': 'CL'\n",
    "}"
   ]
  },
  {
   "cell_type": "code",
   "execution_count": 19,
   "metadata": {},
   "outputs": [],
   "source": [
    "ixp_asn_dict = {\n",
    "    'eze': 11058,\n",
    "    'scl': 61522,\n",
    "    # We do not care about this now\n",
    "    'fra': None,\n",
    "    # We do not care about this now\n",
    "    'cdg': None,\n",
    "    # We do not care about this now\n",
    "    'bkk': None,\n",
    "    # We do not care about this now\n",
    "    'jnb': None,\n",
    "    # We do not care about this now\n",
    "    'saopaulo': None,\n",
    "}"
   ]
  },
  {
   "cell_type": "code",
   "execution_count": 20,
   "metadata": {},
   "outputs": [],
   "source": [
    "path_to_ixp_bgp_dumps_dirs = '../../data/processed/ribs/v4'"
   ]
  },
  {
   "cell_type": "markdown",
   "metadata": {},
   "source": [
    "**MAIN BLOCK OF THIS NOTEBOOK**"
   ]
  },
  {
   "cell_type": "code",
   "execution_count": 21,
   "metadata": {},
   "outputs": [],
   "source": [
    "output_list = []\n",
    "inactive_list = []\n",
    "for ixp in ixp_under_analysis_list:\n",
    "    # get all BGP table dumps\n",
    "    ixp_bgp_table_dump_files_a = np.array(glob.glob(path_to_ixp_bgp_dumps_dirs + '/' + ixp + '/*'))\n",
    "    # sort BGP table dumps by ASCENDING DATE\n",
    "    ixp_bgp_table_dump_files_a = np.sort(ixp_bgp_table_dump_files_a)\n",
    "    # Loop over each BGP table dump (month-to-month analysis)\n",
    "    for bgp_table_dump_file in ixp_bgp_table_dump_files_a:\n",
    "        bgp_table_dump_df = pd.read_csv(\n",
    "            bgp_table_dump_file,\n",
    "            header='infer',\n",
    "            sep=','\n",
    "        )\n",
    "        # Remove NaN path if exists\n",
    "        bgp_table_dump_df = bgp_table_dump_df.loc[\n",
    "            bgp_table_dump_df['as-path'].notnull()\n",
    "        ]\n",
    "        # find visible ASes from BGP table dump\n",
    "        members_set = get_visible_ases(bgp_table_dump_df, ixp_asn_dict[ixp])\n",
    "        # get snapshot's date --> DATETIME\n",
    "        date_datetime = datime2epoch(bgp_table_dump_file.split('/')[-1])\n",
    "        # get snapshot's date --> STR WITHOUT _\n",
    "        date_no_spaces_str = bgp_table_dump_file.split('/')[-1].replace('_','')\n",
    "        # get snapshot's date --> STR \n",
    "        date_str = bgp_table_dump_file.split('/')[-1]\n",
    "        # select RIR delegation file according to the IXP's country\n",
    "        rir_latest_df = rir_latest_dict[ixp_rir_dict[ixp]]\n",
    "        # get COUNTRY CODE of IXP's country\n",
    "        cc = ixp_cc_dict[ixp]\n",
    "        # if Brazil, day has to be changed from 10 to 01\n",
    "        if cc == 'BR':\n",
    "            date_no_spaces_str = date_no_spaces_str[:-2] + '01'\n",
    "        # check if:\n",
    "        #    i) CAIDA's AS-REL files exists for that date\n",
    "        #    ii) RIB DOES contain information \n",
    "        if (date_no_spaces_str in active_ases_dict.keys()) and \\\n",
    "        (len(members_set) > 0):\n",
    "            # compute the total number of active ASes in that country\n",
    "            total_ases_active_cnt = rir_latest_df.loc[\n",
    "                (rir_latest_df['epoch'] <= date_datetime)  &  \n",
    "                (rir_latest_df['epoch'] > 0) & \n",
    "                (rir_latest_df['cc'] == cc ) & \n",
    "                (rir_latest_df['asn'].isin(active_ases_dict[date_no_spaces_str]))\n",
    "            ]['asn'].values.size\n",
    "            # compute the total number of INACTIVE ASes in that country\n",
    "            total_ases_inactive_cnt = rir_latest_df.loc[\n",
    "                (rir_latest_df['epoch'] <= date_datetime)  &  \n",
    "                (rir_latest_df['epoch'] > 0) & \n",
    "                (rir_latest_df['cc'] == cc ) & \n",
    "                (~rir_latest_df['asn'].isin(active_ases_dict[date_no_spaces_str]))\n",
    "            ]['asn'].values.size\n",
    "            # compute the number of country's active ASes visible at the IXP\n",
    "            delegated_and_visible_ases_at_ixp = rir_latest_df.loc[\n",
    "                (rir_latest_df['epoch'] <= date_datetime)  &  \n",
    "                (rir_latest_df['epoch'] > 0) & \n",
    "                (rir_latest_df['cc'] == cc ) & \n",
    "                (rir_latest_df['asn'].isin(active_ases_dict[date_no_spaces_str])) &\n",
    "                (rir_latest_df['asn'].isin(list(members_set))) \n",
    "            ]['asn'].values.size\n",
    "            # checks if total_ases_active_cnt is not ZERO\n",
    "            if total_ases_active_cnt > 0:\n",
    "                # Appends results to the list\n",
    "                output_list.append(\n",
    "                    (\n",
    "                        ixp,\n",
    "                        date_str,\n",
    "                        delegated_and_visible_ases_at_ixp,\n",
    "                        total_ases_active_cnt,\n",
    "                        delegated_and_visible_ases_at_ixp / float(total_ases_active_cnt)\n",
    "                    )\n",
    "                )\n",
    "                inactive_list.append(\n",
    "                    (\n",
    "                        cc,\n",
    "                        date_str,\n",
    "                        total_ases_active_cnt,\n",
    "                        total_ases_inactive_cnt,\n",
    "                        total_ases_inactive_cnt / float(total_ases_inactive_cnt + total_ases_active_cnt)\n",
    "                    )\n",
    "                )\n",
    "            else:\n",
    "                print('TOTAL = 0 (%s, %s)' % (ixp, date_str))"
   ]
  },
  {
   "cell_type": "code",
   "execution_count": 22,
   "metadata": {},
   "outputs": [],
   "source": [
    "active_ases_frac_df = pd.DataFrame(\n",
    "    output_list,\n",
    "    columns=[\n",
    "        'iata_code',\n",
    "        'date',\n",
    "        'delegated_and_visible_cnt',\n",
    "        'total_active_cnt',\n",
    "        'frac'\n",
    "    ]\n",
    ")"
   ]
  },
  {
   "cell_type": "code",
   "execution_count": 23,
   "metadata": {},
   "outputs": [],
   "source": [
    "active_ases_frac_df['epoch'] = active_ases_frac_df['date'].apply(datime2epoch)"
   ]
  },
  {
   "cell_type": "code",
   "execution_count": 24,
   "metadata": {},
   "outputs": [
    {
     "data": {
      "text/html": [
       "<div>\n",
       "<style scoped>\n",
       "    .dataframe tbody tr th:only-of-type {\n",
       "        vertical-align: middle;\n",
       "    }\n",
       "\n",
       "    .dataframe tbody tr th {\n",
       "        vertical-align: top;\n",
       "    }\n",
       "\n",
       "    .dataframe thead th {\n",
       "        text-align: right;\n",
       "    }\n",
       "</style>\n",
       "<table border=\"1\" class=\"dataframe\">\n",
       "  <thead>\n",
       "    <tr style=\"text-align: right;\">\n",
       "      <th></th>\n",
       "      <th>iata_code</th>\n",
       "      <th>date</th>\n",
       "      <th>delegated_and_visible_cnt</th>\n",
       "      <th>total_active_cnt</th>\n",
       "      <th>frac</th>\n",
       "      <th>epoch</th>\n",
       "    </tr>\n",
       "  </thead>\n",
       "  <tbody>\n",
       "    <tr>\n",
       "      <th>94</th>\n",
       "      <td>fra</td>\n",
       "      <td>2019_06_01</td>\n",
       "      <td>1666</td>\n",
       "      <td>1877</td>\n",
       "      <td>0.887587</td>\n",
       "      <td>1.559347e+09</td>\n",
       "    </tr>\n",
       "    <tr>\n",
       "      <th>197</th>\n",
       "      <td>cdg</td>\n",
       "      <td>2019_06_01</td>\n",
       "      <td>669</td>\n",
       "      <td>1094</td>\n",
       "      <td>0.611517</td>\n",
       "      <td>1.559347e+09</td>\n",
       "    </tr>\n",
       "    <tr>\n",
       "      <th>215</th>\n",
       "      <td>bkk</td>\n",
       "      <td>2019_06_01</td>\n",
       "      <td>230</td>\n",
       "      <td>370</td>\n",
       "      <td>0.621622</td>\n",
       "      <td>1.559347e+09</td>\n",
       "    </tr>\n",
       "    <tr>\n",
       "      <th>281</th>\n",
       "      <td>jnb</td>\n",
       "      <td>2019_06_01</td>\n",
       "      <td>347</td>\n",
       "      <td>399</td>\n",
       "      <td>0.869674</td>\n",
       "      <td>1.559347e+09</td>\n",
       "    </tr>\n",
       "    <tr>\n",
       "      <th>375</th>\n",
       "      <td>saopaulo</td>\n",
       "      <td>2019_07_10</td>\n",
       "      <td>5139</td>\n",
       "      <td>6458</td>\n",
       "      <td>0.795757</td>\n",
       "      <td>1.562717e+09</td>\n",
       "    </tr>\n",
       "    <tr>\n",
       "      <th>471</th>\n",
       "      <td>eze</td>\n",
       "      <td>2019_06_01</td>\n",
       "      <td>667</td>\n",
       "      <td>777</td>\n",
       "      <td>0.858430</td>\n",
       "      <td>1.559347e+09</td>\n",
       "    </tr>\n",
       "    <tr>\n",
       "      <th>498</th>\n",
       "      <td>scl</td>\n",
       "      <td>2019_06_01</td>\n",
       "      <td>227</td>\n",
       "      <td>232</td>\n",
       "      <td>0.978448</td>\n",
       "      <td>1.559347e+09</td>\n",
       "    </tr>\n",
       "  </tbody>\n",
       "</table>\n",
       "</div>"
      ],
      "text/plain": [
       "    iata_code        date  delegated_and_visible_cnt  total_active_cnt  \\\n",
       "94        fra  2019_06_01                       1666              1877   \n",
       "197       cdg  2019_06_01                        669              1094   \n",
       "215       bkk  2019_06_01                        230               370   \n",
       "281       jnb  2019_06_01                        347               399   \n",
       "375  saopaulo  2019_07_10                       5139              6458   \n",
       "471       eze  2019_06_01                        667               777   \n",
       "498       scl  2019_06_01                        227               232   \n",
       "\n",
       "         frac         epoch  \n",
       "94   0.887587  1.559347e+09  \n",
       "197  0.611517  1.559347e+09  \n",
       "215  0.621622  1.559347e+09  \n",
       "281  0.869674  1.559347e+09  \n",
       "375  0.795757  1.562717e+09  \n",
       "471  0.858430  1.559347e+09  \n",
       "498  0.978448  1.559347e+09  "
      ]
     },
     "execution_count": 24,
     "metadata": {},
     "output_type": "execute_result"
    }
   ],
   "source": [
    "active_ases_frac_df.loc[\n",
    "    (active_ases_frac_df['epoch'] == active_ases_frac_df['epoch'].max()) |\n",
    "    (active_ases_frac_df['epoch'] == active_ases_frac_df.tail()['epoch'].values[-2])\n",
    "]"
   ]
  },
  {
   "cell_type": "markdown",
   "metadata": {},
   "source": [
    "### INACTIVE fraction"
   ]
  },
  {
   "cell_type": "code",
   "execution_count": 25,
   "metadata": {},
   "outputs": [],
   "source": [
    "inactive_ases_frac_df = pd.DataFrame(\n",
    "    inactive_list,\n",
    "    columns=[\n",
    "        'cc',\n",
    "        'date',\n",
    "        'total_active_cnt',\n",
    "        'total_inactive_cnt',\n",
    "        'inactive_frac'\n",
    "    ]\n",
    ")"
   ]
  },
  {
   "cell_type": "code",
   "execution_count": 26,
   "metadata": {},
   "outputs": [],
   "source": [
    "inactive_ases_frac_df['epoch'] = inactive_ases_frac_df['date'].apply(datime2epoch)"
   ]
  },
  {
   "cell_type": "code",
   "execution_count": 27,
   "metadata": {},
   "outputs": [
    {
     "data": {
      "text/html": [
       "<div>\n",
       "<style scoped>\n",
       "    .dataframe tbody tr th:only-of-type {\n",
       "        vertical-align: middle;\n",
       "    }\n",
       "\n",
       "    .dataframe tbody tr th {\n",
       "        vertical-align: top;\n",
       "    }\n",
       "\n",
       "    .dataframe thead th {\n",
       "        text-align: right;\n",
       "    }\n",
       "</style>\n",
       "<table border=\"1\" class=\"dataframe\">\n",
       "  <thead>\n",
       "    <tr style=\"text-align: right;\">\n",
       "      <th></th>\n",
       "      <th>cc</th>\n",
       "      <th>date</th>\n",
       "      <th>total_active_cnt</th>\n",
       "      <th>total_inactive_cnt</th>\n",
       "      <th>inactive_frac</th>\n",
       "      <th>epoch</th>\n",
       "    </tr>\n",
       "  </thead>\n",
       "  <tbody>\n",
       "    <tr>\n",
       "      <th>0</th>\n",
       "      <td>DE</td>\n",
       "      <td>2010_07_01</td>\n",
       "      <td>1009</td>\n",
       "      <td>204</td>\n",
       "      <td>0.168178</td>\n",
       "      <td>1.277942e+09</td>\n",
       "    </tr>\n",
       "    <tr>\n",
       "      <th>1</th>\n",
       "      <td>DE</td>\n",
       "      <td>2010_08_01</td>\n",
       "      <td>1016</td>\n",
       "      <td>202</td>\n",
       "      <td>0.165846</td>\n",
       "      <td>1.280621e+09</td>\n",
       "    </tr>\n",
       "    <tr>\n",
       "      <th>2</th>\n",
       "      <td>DE</td>\n",
       "      <td>2010_09_01</td>\n",
       "      <td>1025</td>\n",
       "      <td>204</td>\n",
       "      <td>0.165989</td>\n",
       "      <td>1.283299e+09</td>\n",
       "    </tr>\n",
       "    <tr>\n",
       "      <th>3</th>\n",
       "      <td>DE</td>\n",
       "      <td>2010_10_01</td>\n",
       "      <td>1032</td>\n",
       "      <td>204</td>\n",
       "      <td>0.165049</td>\n",
       "      <td>1.285891e+09</td>\n",
       "    </tr>\n",
       "    <tr>\n",
       "      <th>4</th>\n",
       "      <td>DE</td>\n",
       "      <td>2010_11_01</td>\n",
       "      <td>1041</td>\n",
       "      <td>200</td>\n",
       "      <td>0.161160</td>\n",
       "      <td>1.288570e+09</td>\n",
       "    </tr>\n",
       "  </tbody>\n",
       "</table>\n",
       "</div>"
      ],
      "text/plain": [
       "   cc        date  total_active_cnt  total_inactive_cnt  inactive_frac  \\\n",
       "0  DE  2010_07_01              1009                 204       0.168178   \n",
       "1  DE  2010_08_01              1016                 202       0.165846   \n",
       "2  DE  2010_09_01              1025                 204       0.165989   \n",
       "3  DE  2010_10_01              1032                 204       0.165049   \n",
       "4  DE  2010_11_01              1041                 200       0.161160   \n",
       "\n",
       "          epoch  \n",
       "0  1.277942e+09  \n",
       "1  1.280621e+09  \n",
       "2  1.283299e+09  \n",
       "3  1.285891e+09  \n",
       "4  1.288570e+09  "
      ]
     },
     "execution_count": 27,
     "metadata": {},
     "output_type": "execute_result"
    }
   ],
   "source": [
    "inactive_ases_frac_df.head()"
   ]
  },
  {
   "cell_type": "code",
   "execution_count": 28,
   "metadata": {},
   "outputs": [
    {
     "data": {
      "text/html": [
       "<div>\n",
       "<style scoped>\n",
       "    .dataframe tbody tr th:only-of-type {\n",
       "        vertical-align: middle;\n",
       "    }\n",
       "\n",
       "    .dataframe tbody tr th {\n",
       "        vertical-align: top;\n",
       "    }\n",
       "\n",
       "    .dataframe thead th {\n",
       "        text-align: right;\n",
       "    }\n",
       "</style>\n",
       "<table border=\"1\" class=\"dataframe\">\n",
       "  <thead>\n",
       "    <tr style=\"text-align: right;\">\n",
       "      <th></th>\n",
       "      <th>cc</th>\n",
       "      <th>inactive_frac</th>\n",
       "    </tr>\n",
       "  </thead>\n",
       "  <tbody>\n",
       "    <tr>\n",
       "      <th>0</th>\n",
       "      <td>AR</td>\n",
       "      <td>0.260886</td>\n",
       "    </tr>\n",
       "    <tr>\n",
       "      <th>1</th>\n",
       "      <td>BR</td>\n",
       "      <td>0.124506</td>\n",
       "    </tr>\n",
       "    <tr>\n",
       "      <th>2</th>\n",
       "      <td>CL</td>\n",
       "      <td>0.267508</td>\n",
       "    </tr>\n",
       "    <tr>\n",
       "      <th>3</th>\n",
       "      <td>DE</td>\n",
       "      <td>0.200591</td>\n",
       "    </tr>\n",
       "    <tr>\n",
       "      <th>4</th>\n",
       "      <td>FR</td>\n",
       "      <td>0.185629</td>\n",
       "    </tr>\n",
       "    <tr>\n",
       "      <th>5</th>\n",
       "      <td>TH</td>\n",
       "      <td>0.256196</td>\n",
       "    </tr>\n",
       "    <tr>\n",
       "      <th>6</th>\n",
       "      <td>ZA</td>\n",
       "      <td>0.296575</td>\n",
       "    </tr>\n",
       "  </tbody>\n",
       "</table>\n",
       "</div>"
      ],
      "text/plain": [
       "   cc  inactive_frac\n",
       "0  AR       0.260886\n",
       "1  BR       0.124506\n",
       "2  CL       0.267508\n",
       "3  DE       0.200591\n",
       "4  FR       0.185629\n",
       "5  TH       0.256196\n",
       "6  ZA       0.296575"
      ]
     },
     "execution_count": 28,
     "metadata": {},
     "output_type": "execute_result"
    }
   ],
   "source": [
    "inactive_mean_df = inactive_ases_frac_df.groupby('cc')['inactive_frac'].mean().reset_index()\n",
    "inactive_mean_df"
   ]
  },
  {
   "cell_type": "code",
   "execution_count": 29,
   "metadata": {},
   "outputs": [
    {
     "data": {
      "text/html": [
       "<div>\n",
       "<style scoped>\n",
       "    .dataframe tbody tr th:only-of-type {\n",
       "        vertical-align: middle;\n",
       "    }\n",
       "\n",
       "    .dataframe tbody tr th {\n",
       "        vertical-align: top;\n",
       "    }\n",
       "\n",
       "    .dataframe thead th {\n",
       "        text-align: right;\n",
       "    }\n",
       "</style>\n",
       "<table border=\"1\" class=\"dataframe\">\n",
       "  <thead>\n",
       "    <tr style=\"text-align: right;\">\n",
       "      <th></th>\n",
       "      <th>cc</th>\n",
       "      <th>inactive_frac</th>\n",
       "    </tr>\n",
       "  </thead>\n",
       "  <tbody>\n",
       "    <tr>\n",
       "      <th>0</th>\n",
       "      <td>AR</td>\n",
       "      <td>0.034925</td>\n",
       "    </tr>\n",
       "    <tr>\n",
       "      <th>1</th>\n",
       "      <td>BR</td>\n",
       "      <td>0.077842</td>\n",
       "    </tr>\n",
       "    <tr>\n",
       "      <th>2</th>\n",
       "      <td>CL</td>\n",
       "      <td>0.015232</td>\n",
       "    </tr>\n",
       "    <tr>\n",
       "      <th>3</th>\n",
       "      <td>DE</td>\n",
       "      <td>0.033429</td>\n",
       "    </tr>\n",
       "    <tr>\n",
       "      <th>4</th>\n",
       "      <td>FR</td>\n",
       "      <td>0.027026</td>\n",
       "    </tr>\n",
       "    <tr>\n",
       "      <th>5</th>\n",
       "      <td>TH</td>\n",
       "      <td>0.010724</td>\n",
       "    </tr>\n",
       "    <tr>\n",
       "      <th>6</th>\n",
       "      <td>ZA</td>\n",
       "      <td>0.035839</td>\n",
       "    </tr>\n",
       "  </tbody>\n",
       "</table>\n",
       "</div>"
      ],
      "text/plain": [
       "   cc  inactive_frac\n",
       "0  AR       0.034925\n",
       "1  BR       0.077842\n",
       "2  CL       0.015232\n",
       "3  DE       0.033429\n",
       "4  FR       0.027026\n",
       "5  TH       0.010724\n",
       "6  ZA       0.035839"
      ]
     },
     "execution_count": 29,
     "metadata": {},
     "output_type": "execute_result"
    }
   ],
   "source": [
    "inactive_std_df = inactive_ases_frac_df.groupby('cc')['inactive_frac'].std().reset_index()\n",
    "inactive_std_df"
   ]
  },
  {
   "cell_type": "markdown",
   "metadata": {},
   "source": [
    "# 6. Plot results"
   ]
  },
  {
   "cell_type": "code",
   "execution_count": 30,
   "metadata": {},
   "outputs": [],
   "source": [
    "label_dict = {\n",
    "    'scl': 'PIT Chile-SCL',\n",
    "    'eze': 'CABASE-BUE',\n",
    "    'asu': 'IX.py',\n",
    "    'saopaulo': 'IX.br',\n",
    "    'fra': 'DE-CIX-fra',\n",
    "    'cdg': 'France-IX-Paris',\n",
    "    'jnb': 'JINX',\n",
    "    'bkk': 'BKNIX',\n",
    "}"
   ]
  },
  {
   "cell_type": "code",
   "execution_count": 31,
   "metadata": {},
   "outputs": [
    {
     "data": {
      "image/png": "[encoded data removed]",
      "text/plain": [
       "<Figure size 720x288 with 1 Axes>"
      ]
     },
     "metadata": {
      "needs_background": "light"
     },
     "output_type": "display_data"
    }
   ],
   "source": [
    "marker_iter = itertools.cycle(('d', 'o', '*')) \n",
    "fig, ax1 = pl.subplots(1,figsize=(10, 4))\n",
    "ax1.yaxis.grid(True, linestyle='-', color='#bababa',alpha=0.5)\n",
    "ax1.xaxis.grid(True, linestyle='-', color='#bababa',alpha=0.5)\n",
    "# plot frac for each AS\n",
    "for iata_code in active_ases_frac_df.drop_duplicates('iata_code')['iata_code'].values:\n",
    "    ax1.plot(\n",
    "        active_ases_frac_df.loc[\n",
    "            (active_ases_frac_df['frac'] > 0) &\n",
    "            (active_ases_frac_df['iata_code'] == iata_code) \n",
    "        ]['epoch'].values,\n",
    "        active_ases_frac_df.loc[\n",
    "            (active_ases_frac_df['frac'] > 0) &\n",
    "            (active_ases_frac_df['iata_code'] == iata_code) \n",
    "        ]['frac'].values,\n",
    "        label=label_dict[iata_code],\n",
    "        marker = next(marker_iter),\n",
    "        markersize=9,\n",
    "        markevery=12,\n",
    "        alpha=0.5,\n",
    "        linewidth=3\n",
    "    )\n",
    "\n",
    "#\n",
    "ticks = []\n",
    "xlabels = []\n",
    "for index, row in active_ases_frac_df.drop_duplicates('date').iterrows():\n",
    "    dt_datetime = str(row['date'])\n",
    "    if dt_datetime[-5:] == '01_01':\n",
    "        ticks.append(row['epoch'])\n",
    "        xlabels.append(dt_datetime[0:4])\n",
    "\n",
    "ax1.set_xticks(ticks, minor=False)\n",
    "ax1.set_xticklabels(xlabels, rotation=0, minor=False, ha='center')\n",
    "ax1.set_yticks(np.arange(0, 1.01, 0.1), minor=False)\n",
    "ax1.set_ylabel('Fraction', fontsize=20)\n",
    "ax1.set_xlabel('', fontsize=14)\n",
    "ax1.tick_params(labelsize=20)\n",
    "\n",
    "ax1.legend(loc='lower center', ncol=3, frameon=True, fontsize=16)\n",
    "fig.subplots_adjust(hspace=0)\n",
    "fig.tight_layout()\n",
    "fig.savefig('../../figures/4_3_1Total_vs_Delegated.pdf')"
   ]
  }
 ],
 "metadata": {
  "kernelspec": {
   "display_name": "latam-ixp-obs",
   "language": "python",
   "name": "latam-ixp-obs"
  },
  "language_info": {
   "codemirror_mode": {
    "name": "ipython",
    "version": 3
   },
   "file_extension": ".py",
   "mimetype": "text/x-python",
   "name": "python",
   "nbconvert_exporter": "python",
   "pygments_lexer": "ipython3",
   "version": "3.6.7"
  }
 },
 "nbformat": 4,
 "nbformat_minor": 2
}
